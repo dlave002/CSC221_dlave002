{
  "nbformat": 4,
  "nbformat_minor": 0,
  "metadata": {
    "colab": {
      "provenance": [],
      "authorship_tag": "ABX9TyM8Wk7Yr0cn6WKJGvobaJfQ",
      "include_colab_link": true
    },
    "kernelspec": {
      "name": "python3",
      "display_name": "Python 3"
    },
    "language_info": {
      "name": "python"
    }
  },
  "cells": [
    {
      "cell_type": "markdown",
      "metadata": {
        "id": "view-in-github",
        "colab_type": "text"
      },
      "source": [
        "<a href=\"https://colab.research.google.com/github/dlave002/CSC221_dlave002/blob/main/Final.ipynb\" target=\"_parent\"><img src=\"https://colab.research.google.com/assets/colab-badge.svg\" alt=\"Open In Colab\"/></a>"
      ]
    },
    {
      "cell_type": "code",
      "execution_count": null,
      "metadata": {
        "colab": {
          "base_uri": "https://localhost:8080/"
        },
        "id": "WWpdW-IMiQUS",
        "outputId": "363e1b3a-c797-4246-fc05-56f74f5b8d00"
      },
      "outputs": [
        {
          "output_type": "stream",
          "name": "stdout",
          "text": [
            "a value is helloworld and type is <class 'str'>\n",
            "b value is 1 and type is <class 'int'>\n",
            "c value is 1.2 and type is <class 'float'>\n"
          ]
        }
      ],
      "source": [
        "#Cell 1: Demonstrate int, float, and string\n",
        "\n",
        "\n",
        "a = 'helloworld'\n",
        "b = 1\n",
        "c = 1.2\n",
        "\n",
        "print(f\"a value is {a} and type is {type(a)}\")\n",
        "print(f\"b value is {b} and type is {type(b)}\")\n",
        "print(f\"c value is {c} and type is {type(c)}\")"
      ]
    },
    {
      "cell_type": "code",
      "source": [
        "# Cell 2: Show how an f-string works (f'Something like this with {something} in it.')\n",
        "\n",
        "a = 'helloworld'\n",
        "print(f\"example of f-string is {a}\")\n"
      ],
      "metadata": {
        "id": "05L2MtkhkKSj"
      },
      "execution_count": null,
      "outputs": []
    },
    {
      "cell_type": "code",
      "source": [
        "# Cell 3: Demonstrate some methods of the string class\n",
        "\n",
        "example_string = \"Hello, Python!\"\n",
        "\n",
        "# Example methods\n",
        "print(example_string.upper())\n",
        "print(example_string.lower())\n",
        "print(example_string.startswith(\"Hello\"))\n",
        "print(example_string.endswith(\"Python!\"))\n",
        "print(example_string.replace(\"Python\", \"World\"))"
      ],
      "metadata": {
        "id": "WgLEXOYakX-C"
      },
      "execution_count": null,
      "outputs": []
    },
    {
      "cell_type": "code",
      "source": [
        "# Do something with a list\n",
        "my_list = [1, 2, 3, 4, 5]\n",
        "my_list.append(6)\n",
        "my_list.remove(3)\n",
        "\n",
        "print(my_list)"
      ],
      "metadata": {
        "id": "ov7YHhkfkmR1"
      },
      "execution_count": null,
      "outputs": []
    },
    {
      "cell_type": "code",
      "source": [
        "# Do something with a list of lists\n",
        "list_of_lists = [[1, 2, 3], [4, 5, 6], [7, 8, 9]]\n",
        "list_of_lists.append([1,2,4])\n",
        "print(list_of_lists[1][2])\n",
        "print(list_of_lists)\n"
      ],
      "metadata": {
        "colab": {
          "base_uri": "https://localhost:8080/"
        },
        "id": "kX6It0BSky7e",
        "outputId": "f50b5212-04f4-45fd-e8f3-9f59a36b0168"
      },
      "execution_count": null,
      "outputs": [
        {
          "output_type": "stream",
          "name": "stdout",
          "text": [
            "6\n",
            "[[1, 2, 3], [4, 5, 6], [7, 8, 9], [1, 2, 4]]\n"
          ]
        }
      ]
    },
    {
      "cell_type": "code",
      "source": [
        "# Show how to print a list in sorted order without changing it\n",
        "original_list = [3, 1, 4, 1, 5, 9, 2, 6, 5, 3, 5]\n",
        "sorted_list = sorted(original_list)\n",
        "\n",
        "print(\"Original list:\", original_list)\n",
        "print(\"Sorted list:\", sorted_list)"
      ],
      "metadata": {
        "colab": {
          "base_uri": "https://localhost:8080/"
        },
        "id": "-85Cjnbpk6IV",
        "outputId": "2b97e3ba-8a17-4427-ffca-b23908e39b3a"
      },
      "execution_count": null,
      "outputs": [
        {
          "output_type": "stream",
          "name": "stdout",
          "text": [
            "Original list: [3, 1, 4, 1, 5, 9, 2, 6, 5, 3, 5]\n",
            "Sorted list: [1, 1, 2, 3, 3, 4, 5, 5, 5, 6, 9]\n"
          ]
        }
      ]
    },
    {
      "cell_type": "code",
      "source": [
        "# Printing a series of numbers using for and range\n",
        "for num in range(1, 6):\n",
        "    print(num)"
      ],
      "metadata": {
        "colab": {
          "base_uri": "https://localhost:8080/"
        },
        "id": "6iYQ0RK8k94j",
        "outputId": "c444724c-2b3e-4ed4-bc19-0ef8a78cacba"
      },
      "execution_count": null,
      "outputs": [
        {
          "output_type": "stream",
          "name": "stdout",
          "text": [
            "1\n",
            "2\n",
            "3\n",
            "4\n",
            "5\n"
          ]
        }
      ]
    },
    {
      "cell_type": "code",
      "source": [
        "def sieve_of_eratosthenes(limit):\n",
        "    primes = []\n",
        "    sieve = [True] * (limit + 1)\n",
        "    for num in range(2, int(limit**0.5) + 1):\n",
        "        if sieve[num]:\n",
        "            primes.append(num)\n",
        "            for multiple in range(num**2, limit + 1, num):\n",
        "                sieve[multiple] = False\n",
        "    for num in range(int(limit**0.5) + 1, limit + 1):\n",
        "        if sieve[num]:\n",
        "            primes.append(num)\n",
        "    return primes\n",
        "\n",
        "all_primes = sieve_of_eratosthenes(1000)\n",
        "print(all_primes)\n"
      ],
      "metadata": {
        "colab": {
          "base_uri": "https://localhost:8080/"
        },
        "id": "ZPDmK6wRlAdY",
        "outputId": "43f72130-8996-49c9-ac6f-bec0d46a38d8"
      },
      "execution_count": null,
      "outputs": [
        {
          "output_type": "stream",
          "name": "stdout",
          "text": [
            "[2, 3, 5, 7, 11, 13, 17, 19, 23, 29, 31, 37, 41, 43, 47, 53, 59, 61, 67, 71, 73, 79, 83, 89, 97, 101, 103, 107, 109, 113, 127, 131, 137, 139, 149, 151, 157, 163, 167, 173, 179, 181, 191, 193, 197, 199, 211, 223, 227, 229, 233, 239, 241, 251, 257, 263, 269, 271, 277, 281, 283, 293, 307, 311, 313, 317, 331, 337, 347, 349, 353, 359, 367, 373, 379, 383, 389, 397, 401, 409, 419, 421, 431, 433, 439, 443, 449, 457, 461, 463, 467, 479, 487, 491, 499, 503, 509, 521, 523, 541, 547, 557, 563, 569, 571, 577, 587, 593, 599, 601, 607, 613, 617, 619, 631, 641, 643, 647, 653, 659, 661, 673, 677, 683, 691, 701, 709, 719, 727, 733, 739, 743, 751, 757, 761, 769, 773, 787, 797, 809, 811, 821, 823, 827, 829, 839, 853, 857, 859, 863, 877, 881, 883, 887, 907, 911, 919, 929, 937, 941, 947, 953, 967, 971, 977, 983, 991, 997]\n"
          ]
        }
      ]
    },
    {
      "cell_type": "code",
      "source": [
        "def my_prime_generator(N):\n",
        "    primes = sieve_of_eratosthenes(N**2)\n",
        "    for prime in primes[:N]:\n",
        "        yield prime\n",
        "\n",
        "for x in my_prime_generator(200):\n",
        "    print(x)"
      ],
      "metadata": {
        "colab": {
          "base_uri": "https://localhost:8080/"
        },
        "id": "aq3TK708lE0k",
        "outputId": "86d2a95b-b81e-4596-ee70-1c8ed03a0b8f"
      },
      "execution_count": null,
      "outputs": [
        {
          "output_type": "stream",
          "name": "stdout",
          "text": [
            "2\n",
            "3\n",
            "5\n",
            "7\n",
            "11\n",
            "13\n",
            "17\n",
            "19\n",
            "23\n",
            "29\n",
            "31\n",
            "37\n",
            "41\n",
            "43\n",
            "47\n",
            "53\n",
            "59\n",
            "61\n",
            "67\n",
            "71\n",
            "73\n",
            "79\n",
            "83\n",
            "89\n",
            "97\n",
            "101\n",
            "103\n",
            "107\n",
            "109\n",
            "113\n",
            "127\n",
            "131\n",
            "137\n",
            "139\n",
            "149\n",
            "151\n",
            "157\n",
            "163\n",
            "167\n",
            "173\n",
            "179\n",
            "181\n",
            "191\n",
            "193\n",
            "197\n",
            "199\n",
            "211\n",
            "223\n",
            "227\n",
            "229\n",
            "233\n",
            "239\n",
            "241\n",
            "251\n",
            "257\n",
            "263\n",
            "269\n",
            "271\n",
            "277\n",
            "281\n",
            "283\n",
            "293\n",
            "307\n",
            "311\n",
            "313\n",
            "317\n",
            "331\n",
            "337\n",
            "347\n",
            "349\n",
            "353\n",
            "359\n",
            "367\n",
            "373\n",
            "379\n",
            "383\n",
            "389\n",
            "397\n",
            "401\n",
            "409\n",
            "419\n",
            "421\n",
            "431\n",
            "433\n",
            "439\n",
            "443\n",
            "449\n",
            "457\n",
            "461\n",
            "463\n",
            "467\n",
            "479\n",
            "487\n",
            "491\n",
            "499\n",
            "503\n",
            "509\n",
            "521\n",
            "523\n",
            "541\n",
            "547\n",
            "557\n",
            "563\n",
            "569\n",
            "571\n",
            "577\n",
            "587\n",
            "593\n",
            "599\n",
            "601\n",
            "607\n",
            "613\n",
            "617\n",
            "619\n",
            "631\n",
            "641\n",
            "643\n",
            "647\n",
            "653\n",
            "659\n",
            "661\n",
            "673\n",
            "677\n",
            "683\n",
            "691\n",
            "701\n",
            "709\n",
            "719\n",
            "727\n",
            "733\n",
            "739\n",
            "743\n",
            "751\n",
            "757\n",
            "761\n",
            "769\n",
            "773\n",
            "787\n",
            "797\n",
            "809\n",
            "811\n",
            "821\n",
            "823\n",
            "827\n",
            "829\n",
            "839\n",
            "853\n",
            "857\n",
            "859\n",
            "863\n",
            "877\n",
            "881\n",
            "883\n",
            "887\n",
            "907\n",
            "911\n",
            "919\n",
            "929\n",
            "937\n",
            "941\n",
            "947\n",
            "953\n",
            "967\n",
            "971\n",
            "977\n",
            "983\n",
            "991\n",
            "997\n",
            "1009\n",
            "1013\n",
            "1019\n",
            "1021\n",
            "1031\n",
            "1033\n",
            "1039\n",
            "1049\n",
            "1051\n",
            "1061\n",
            "1063\n",
            "1069\n",
            "1087\n",
            "1091\n",
            "1093\n",
            "1097\n",
            "1103\n",
            "1109\n",
            "1117\n",
            "1123\n",
            "1129\n",
            "1151\n",
            "1153\n",
            "1163\n",
            "1171\n",
            "1181\n",
            "1187\n",
            "1193\n",
            "1201\n",
            "1213\n",
            "1217\n",
            "1223\n"
          ]
        }
      ]
    },
    {
      "cell_type": "code",
      "source": [
        "#Cell 11: Generate 1000 random integers in a list (random.randint(...)) and print their min, max, sum, and average.\n",
        "\n",
        "import random\n",
        "random_integers = [random.randint(1,1000) for i in range (1000)]\n",
        "\n",
        "print(\"Min:\", min(random_integers))\n",
        "print(\"Max:\", max(random_integers))\n",
        "print(\"Sum:\", sum(random_integers))\n",
        "print(\"Average:\", sum(random_integers) / len(random_integers))"
      ],
      "metadata": {
        "id": "Ssb4bxfmmAqA"
      },
      "execution_count": null,
      "outputs": []
    },
    {
      "cell_type": "code",
      "source": [
        "# Cell 12: Write a simple function that uses if, elif, and else and show that it works.\n",
        "\n",
        "def classify_number(number):\n",
        "    if number > 0:\n",
        "        return \"Positive\"\n",
        "    elif number < 0:\n",
        "        return \"Negative\"\n",
        "    else:\n",
        "        return \"Zero\"\n",
        "\n",
        "result = classify_number(-5)\n",
        "print(result)"
      ],
      "metadata": {
        "id": "eTGrB6ZGmmbi"
      },
      "execution_count": null,
      "outputs": []
    },
    {
      "cell_type": "code",
      "source": [
        "#Cell 14: Create a file using %%file testfile.txt in Colab.\n",
        "%%file testfile.txt\n",
        "Amy, cat\n",
        "Fred, dog\n",
        "Hunter, dog\n",
        "Peena, parakeet\n",
        "Rover, dog\n"
      ],
      "metadata": {
        "id": "L0JDO3mpmPF-"
      },
      "execution_count": null,
      "outputs": []
    },
    {
      "cell_type": "code",
      "source": [
        "# Cell 15: Read that file in and convert it to a dictionary. Show how you can lookup pet type by using pet name with your dictionary.\n",
        "\n",
        "\n",
        "pet_dict = {}\n",
        "\n",
        "with open(\"testfile.txt\", \"r\") as file:\n",
        "    for line in file:\n",
        "        name, pet_type = line.strip().split(\", \")\n",
        "        pet_dict[name] = pet_type\n",
        "\n",
        "print(pet_dict)"
      ],
      "metadata": {
        "id": "WC34-aKim998"
      },
      "execution_count": null,
      "outputs": []
    },
    {
      "cell_type": "code",
      "source": [
        "# Cell 16: Generate a list of all the unique pet types in the dictionary. Use a set to make this happen.\n",
        "\n",
        "unique_pet_types = set(pet_dict.values())\n",
        "print(list(unique_pet_types))"
      ],
      "metadata": {
        "id": "MsJnnNjQnFv0"
      },
      "execution_count": null,
      "outputs": []
    },
    {
      "cell_type": "code",
      "source": [
        "# Cell 17: Use a while loop to print the numbers from 80 down to 16 by 8. Do not use for or range.\n",
        "\n",
        "# Use a while loop to print numbers\n",
        "num = 80\n",
        "while num >= 16:\n",
        "    print(num)\n",
        "    num -= 8\n"
      ],
      "metadata": {
        "id": "tD3pUn8DnL40"
      },
      "execution_count": null,
      "outputs": []
    },
    {
      "cell_type": "code",
      "source": [
        "#Cell 18: Write a function that takes three numbers and returns their min, max, and sum as a tuple.\n",
        "\n",
        "def min_max_sum_tuple(a, b, c):\n",
        "    return min(a, b, c), max(a, b, c), a + b + c\n",
        "\n",
        "result_tuple = min_max_sum_tuple(5, 10, 3)\n",
        "print(result_tuple)"
      ],
      "metadata": {
        "colab": {
          "base_uri": "https://localhost:8080/"
        },
        "id": "ZIptsYcInPtP",
        "outputId": "2be2d6c0-d25b-4049-937e-355ed251674c"
      },
      "execution_count": null,
      "outputs": [
        {
          "output_type": "stream",
          "name": "stdout",
          "text": [
            "(3, 10, 18)\n"
          ]
        }
      ]
    },
    {
      "cell_type": "code",
      "source": [
        "# Cell 19: Write a function that takes any number of numbers and returns their min, max, and sum as a tuple.\n",
        "def min_max_sum_tuple_varargs(*numbers):\n",
        "    return min(numbers), max(numbers), sum(numbers)\n",
        "\n",
        "result_varargs = min_max_sum_tuple_varargs(5, 10, 3, 8)\n",
        "print(result_varargs)\n"
      ],
      "metadata": {
        "id": "RU2G0uVMnjyA"
      },
      "execution_count": null,
      "outputs": []
    },
    {
      "cell_type": "code",
      "source": [
        "# Cell 20: Create a decorator called traceroo and use it to print messages showing how your function above executes.\n",
        "\n",
        "\n",
        "def traceroo(func):\n",
        "    def wrapper(*args, **kwargs):\n",
        "        print(f\"Calling {func.__name__} with args {args} and kwargs {kwargs}\")\n",
        "        result = func(*args, **kwargs)\n",
        "        print(f\"{func.__name__} returned {result}\")\n",
        "        return result\n",
        "    return wrapper\n",
        "\n",
        "@traceroo\n",
        "def min_max_sum_tuple_varargs(*numbers):\n",
        "    return min(numbers), max(numbers), sum(numbers)\n",
        "\n",
        "result_decorated = min_max_sum_tuple_varargs(5, 10, 3, 8)\n",
        "print(result_decorated)\n"
      ],
      "metadata": {
        "colab": {
          "base_uri": "https://localhost:8080/"
        },
        "id": "Hvo9yJtInsmE",
        "outputId": "7ed7ef1a-dd60-4347-fc72-88615ed35239"
      },
      "execution_count": null,
      "outputs": [
        {
          "output_type": "stream",
          "name": "stdout",
          "text": [
            "Calling min_max_sum_tuple_varargs with args (5, 10, 3, 8) and kwargs {}\n",
            "min_max_sum_tuple_varargs returned (3, 10, 26)\n",
            "(3, 10, 26)\n"
          ]
        }
      ]
    },
    {
      "cell_type": "code",
      "source": [
        "# Cell 21: Create a class that uses __init__, __repr__, __str__, and __add__. Demonstrate that all of the methods work.\n",
        "\n",
        "class MyClass:\n",
        "    def __init__(self, value):\n",
        "        self.value = value\n",
        "\n",
        "    def __repr__(self):\n",
        "        return f'MyClass({self.value})'\n",
        "\n",
        "    def __str__(self):\n",
        "        return f'This is an instance of MyClass with value: {self.value}'\n",
        "\n",
        "    def __add__(self, other):\n",
        "        if isinstance(other, MyClass):\n",
        "            return MyClass(self.value + other.value)\n",
        "        elif isinstance(other, int):\n",
        "            return MyClass(self.value + other)\n",
        "\n",
        "# Demonstrate methods\n",
        "obj1 = MyClass(5)\n",
        "obj2 = MyClass(10)\n",
        "\n",
        "print(repr(obj1))\n",
        "print(str(obj1))\n",
        "print(repr(obj2))\n",
        "print(str(obj2))\n",
        "\n",
        "result_add = obj1 + obj2\n",
        "print(result_add)"
      ],
      "metadata": {
        "colab": {
          "base_uri": "https://localhost:8080/"
        },
        "id": "-rHY8d03nzEB",
        "outputId": "9da3123a-6168-42d0-bad8-ff77118b249b"
      },
      "execution_count": null,
      "outputs": [
        {
          "output_type": "stream",
          "name": "stdout",
          "text": [
            "MyClass(5)\n",
            "This is an instance of MyClass with value: 5\n",
            "MyClass(10)\n",
            "This is an instance of MyClass with value: 10\n",
            "This is an instance of MyClass with value: 15\n"
          ]
        }
      ]
    },
    {
      "cell_type": "code",
      "source": [
        "# Is your birth date included in the digits of pi? Where? Feel free to use the code from Chapter 10.\n",
        "\n",
        "import math\n",
        "\n",
        "def is_pi_in_date(date):\n",
        "    # Get the first 10 digits of pi (adjust as needed)\n",
        "    pi_digits = str(math.pi)[2:12]\n",
        "\n",
        "    # Convert the date to a string for comparison\n",
        "    date_str = str(date)\n",
        "\n",
        "    # Check if any part of the date string contains the first 10 digits of pi\n",
        "    return pi_digits in date_str\n",
        "\n",
        "# Test with a date\n",
        "birth_date = 3141592653  # For example, March 14, 1592\n",
        "result = is_pi_in_date(birth_date)\n",
        "\n",
        "if result:\n",
        "    print(\"The digits of pi are included in the date!\")\n",
        "else:\n",
        "    print(\"The digits of pi are not included in the date.\")\n",
        "\n"
      ],
      "metadata": {
        "colab": {
          "base_uri": "https://localhost:8080/"
        },
        "id": "xjllSVS6n8oO",
        "outputId": "1b337348-4fe0-4c9a-a16d-ea04796e8d50"
      },
      "execution_count": null,
      "outputs": [
        {
          "output_type": "stream",
          "name": "stdout",
          "text": [
            "The digits of pi are not included in the date.\n"
          ]
        }
      ]
    }
  ]
}