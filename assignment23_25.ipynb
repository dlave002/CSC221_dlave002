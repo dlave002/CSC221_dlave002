{
  "nbformat": 4,
  "nbformat_minor": 0,
  "metadata": {
    "colab": {
      "provenance": [],
      "authorship_tag": "ABX9TyOm7XQoMLzIItwNKAmXTAjS",
      "include_colab_link": true
    },
    "kernelspec": {
      "name": "python3",
      "display_name": "Python 3"
    },
    "language_info": {
      "name": "python"
    }
  },
  "cells": [
    {
      "cell_type": "markdown",
      "metadata": {
        "id": "view-in-github",
        "colab_type": "text"
      },
      "source": [
        "<a href=\"https://colab.research.google.com/github/dlave002/CSC221_dlave002/blob/main/assignment23_25.ipynb\" target=\"_parent\"><img src=\"https://colab.research.google.com/assets/colab-badge.svg\" alt=\"Open In Colab\"/></a>"
      ]
    },
    {
      "cell_type": "code",
      "execution_count": 1,
      "metadata": {
        "colab": {
          "base_uri": "https://localhost:8080/"
        },
        "id": "rujv3cYMfoIY",
        "outputId": "32735611-4d13-4b68-e297-e77aad08750f"
      },
      "outputs": [
        {
          "output_type": "stream",
          "name": "stdout",
          "text": [
            "8\n"
          ]
        }
      ],
      "source": [
        "#Write and test a function that has only positional arguments: def func(a, b)def func(a, b):\n",
        "\n",
        "def func(a, b):\n",
        "    return a + b\n",
        "\n",
        "# Test\n",
        "result = func(3, 5)\n",
        "print(result)"
      ]
    },
    {
      "cell_type": "code",
      "source": [
        "#Write and test a function that has variadic arguments: def func(*s)\n",
        "\n",
        "def func(*args):\n",
        "    return sum(args)\n",
        "\n",
        "# Test\n",
        "result = func(1, 2, 3, 4)\n",
        "print(result)"
      ],
      "metadata": {
        "colab": {
          "base_uri": "https://localhost:8080/"
        },
        "id": "M-60x3kWkbbl",
        "outputId": "e55f7719-3663-4cf0-9990-92bdbb9b0144"
      },
      "execution_count": 2,
      "outputs": [
        {
          "output_type": "stream",
          "name": "stdout",
          "text": [
            "10\n"
          ]
        }
      ]
    },
    {
      "cell_type": "code",
      "source": [
        "# Write and test a function that uses only keyword arguments: def func(**kwargs)\n",
        "def func(**kwargs):\n",
        "    return kwargs\n",
        "\n",
        "# Test\n",
        "result = func(name='John', age=25)\n",
        "print(result)"
      ],
      "metadata": {
        "colab": {
          "base_uri": "https://localhost:8080/"
        },
        "id": "Bbg4PPzxkiqr",
        "outputId": "372873a8-74f8-433e-e3fb-e94d2044cdae"
      },
      "execution_count": 3,
      "outputs": [
        {
          "output_type": "stream",
          "name": "stdout",
          "text": [
            "{'name': 'John', 'age': 25}\n"
          ]
        }
      ]
    },
    {
      "cell_type": "code",
      "source": [
        "# Write and test a function that accepts any inputs: def func(*args, **kwargs). The function should add or subtract all the *args based on a keyword operator='+' or operator='-'\n",
        "def func(*args, **kwargs):\n",
        "    operator = kwargs.get('operator', '+')\n",
        "    if operator == '+':\n",
        "        return sum(args)\n",
        "    elif operator == '-':\n",
        "        return args[0] - sum(args[1:])\n",
        "\n",
        "# Test\n",
        "result = func(1, 2, 3, 4, operator='+')\n",
        "print(result)"
      ],
      "metadata": {
        "colab": {
          "base_uri": "https://localhost:8080/"
        },
        "id": "gUiTvQDgkk7Z",
        "outputId": "976d0d9f-dfcf-4104-d562-adb6dc92e4d9"
      },
      "execution_count": 6,
      "outputs": [
        {
          "output_type": "stream",
          "name": "stdout",
          "text": [
            "10\n"
          ]
        }
      ]
    },
    {
      "cell_type": "code",
      "source": [
        "# Create a global variable and then create a function that uses and changes its value.\n",
        "\n",
        "global_variable = 10\n",
        "\n",
        "def modify_global():\n",
        "    global global_variable\n",
        "    global_variable += 5\n",
        "\n",
        "# Test\n",
        "print(global_variable)\n",
        "modify_global()\n",
        "print(global_variable)"
      ],
      "metadata": {
        "id": "ugae4L9Rkm7o"
      },
      "execution_count": null,
      "outputs": []
    },
    {
      "cell_type": "code",
      "source": [
        "# Create a lambda function that allows the use of sorted(...) such that words are sorted by the number of vowels they contain.\n",
        "\n",
        "words = ['apple', 'banana', 'grape', 'kiwi', 'orange']\n",
        "\n",
        "sorted_words = sorted(words, key=lambda word: sum(1 for char in word if char.lower() in 'aeiou'))\n",
        "print(sorted_words)"
      ],
      "metadata": {
        "id": "PaOFQs2XkqBg"
      },
      "execution_count": null,
      "outputs": []
    },
    {
      "cell_type": "code",
      "source": [
        "# Write a decorator called logger() that appends the name of the function, all of its arguments, and its return value to a file called log.txt. Use some of your functions above to demonstrate how @logger works.\n",
        "\n",
        "def logger(func):\n",
        "    def wrapper(*args, **kwargs):\n",
        "        result = func(*args, **kwargs)\n",
        "        with open('log.txt', 'a') as log_file:\n",
        "            log_file.write(f\"Function: {func.__name__}, Args: {args}, Kwargs: {kwargs}, Result: {result}\\n\")\n",
        "        return result\n",
        "    return wrapper\n",
        "\n",
        "@logger\n",
        "def add(a, b):\n",
        "    return a + b\n",
        "\n",
        "# Test\n",
        "result = add(3, 5)\n",
        "print(result)"
      ],
      "metadata": {
        "colab": {
          "base_uri": "https://localhost:8080/"
        },
        "id": "RvyYlnzVkrpy",
        "outputId": "e5907ca8-381e-4a00-a697-ba1fdb679974"
      },
      "execution_count": 7,
      "outputs": [
        {
          "output_type": "stream",
          "name": "stdout",
          "text": [
            "8\n"
          ]
        }
      ]
    },
    {
      "cell_type": "code",
      "source": [
        "# Show an example of how Python can be used to perform map, filter, and reduce operations.\n",
        "\n",
        "numbers = [1, 2, 3, 4, 5]\n",
        "\n",
        "# Map\n",
        "squared_numbers = list(map(lambda x: x**2, numbers))\n",
        "\n",
        "# Filter\n",
        "even_numbers = list(filter(lambda x: x % 2 == 0, numbers))\n",
        "\n",
        "# Reduce\n",
        "from functools import reduce\n",
        "sum_of_numbers = reduce(lambda x, y: x + y, numbers)\n",
        "\n",
        "print(squared_numbers)\n",
        "print(even_numbers)\n",
        "print(sum_of_numbers)\n"
      ],
      "metadata": {
        "id": "Mfb3tMANkunN"
      },
      "execution_count": null,
      "outputs": []
    },
    {
      "cell_type": "code",
      "source": [
        "# Show how you can use exec(...) to make a simple calculator that runs in a loop and allows me to type in ant Python expression (like '5 + 3 - 8 / 12') and print the result by merely passing the expression to exec(...).\n",
        "\n",
        "while True:\n",
        "    expression = input(\"Enter an expression (or 'exit' to quit): \")\n",
        "    if expression.lower() == 'exit':\n",
        "        break\n",
        "\n",
        "    try:\n",
        "        result = eval(expression)\n",
        "        print(\"Result:\", result)\n",
        "    except Exception as e:\n",
        "        print(f\"Error: {e}\")"
      ],
      "metadata": {
        "colab": {
          "base_uri": "https://localhost:8080/"
        },
        "id": "JDGb5v5Sk3fF",
        "outputId": "f450cf0f-a2a1-423d-fb97-4ed5c279782e"
      },
      "execution_count": 4,
      "outputs": [
        {
          "name": "stdout",
          "output_type": "stream",
          "text": [
            "Enter an expression (or 'exit' to quit): happy\n",
            "Error: name 'happy' is not defined\n",
            "Enter an expression (or 'exit' to quit): sad\n",
            "Error: name 'sad' is not defined\n",
            "Enter an expression (or 'exit' to quit): exit\n"
          ]
        }
      ]
    }
  ]
}