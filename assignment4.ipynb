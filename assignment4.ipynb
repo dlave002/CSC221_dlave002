{
  "nbformat": 4,
  "nbformat_minor": 0,
  "metadata": {
    "colab": {
      "provenance": [],
      "authorship_tag": "ABX9TyMPDPsyqJmx3TdD/Bw7sASC",
      "include_colab_link": true
    },
    "kernelspec": {
      "name": "python3",
      "display_name": "Python 3"
    },
    "language_info": {
      "name": "python"
    }
  },
  "cells": [
    {
      "cell_type": "markdown",
      "metadata": {
        "id": "view-in-github",
        "colab_type": "text"
      },
      "source": [
        "<a href=\"https://colab.research.google.com/github/dlave002/CSC221_dlave002/blob/main/assignment4.ipynb\" target=\"_parent\"><img src=\"https://colab.research.google.com/assets/colab-badge.svg\" alt=\"Open In Colab\"/></a>"
      ]
    },
    {
      "cell_type": "code",
      "execution_count": null,
      "metadata": {
        "colab": {
          "base_uri": "https://localhost:8080/"
        },
        "id": "VxwNsi8GHQ0x",
        "outputId": "3473f1ab-7e69-4fcc-ec50-2eff2b7ec587"
      },
      "outputs": [
        {
          "output_type": "stream",
          "name": "stdout",
          "text": [
            "['trek', 'cannodale', 'redline', 'specialized']\n"
          ]
        }
      ],
      "source": [
        "bicycles = ['trek', 'cannodale', 'redline', 'specialized']\n",
        "print(bicycles)"
      ]
    },
    {
      "cell_type": "code",
      "source": [
        "bikes = ['trek', 'cannondale', 'redline', 'specialized']\n",
        "print(bikes[0])"
      ],
      "metadata": {
        "colab": {
          "base_uri": "https://localhost:8080/"
        },
        "id": "V4kmeUGmIx9h",
        "outputId": "6790e7f8-0cb4-4e1c-d8c2-afe109ab087d"
      },
      "execution_count": null,
      "outputs": [
        {
          "output_type": "stream",
          "name": "stdout",
          "text": [
            "trek\n"
          ]
        }
      ]
    },
    {
      "cell_type": "code",
      "source": [
        "bikes = ['trek', 'cannondale', 'redline', 'specialized']\n",
        "print(bikes[0].title())"
      ],
      "metadata": {
        "colab": {
          "base_uri": "https://localhost:8080/"
        },
        "outputId": "93a00a44-cc64-4550-c151-57424316650e",
        "id": "rMV7R0AIJnqs"
      },
      "execution_count": null,
      "outputs": [
        {
          "output_type": "stream",
          "name": "stdout",
          "text": [
            "Trek\n"
          ]
        }
      ]
    },
    {
      "cell_type": "code",
      "source": [
        "bikes = ['trek', 'cannondale', 'redline', 'specialized']\n",
        "print(bikes[1])\n",
        "print(bikes[3])"
      ],
      "metadata": {
        "colab": {
          "base_uri": "https://localhost:8080/"
        },
        "outputId": "52acc052-2f92-4b36-c92d-577bcf5f93db",
        "id": "PrpUACgLKHJ_"
      },
      "execution_count": null,
      "outputs": [
        {
          "output_type": "stream",
          "name": "stdout",
          "text": [
            "cannondale\n",
            "specialized\n"
          ]
        }
      ]
    },
    {
      "cell_type": "code",
      "source": [
        "bikes = ['trek', 'cannondale', 'redline', 'specialized']\n",
        "print(bikes[-1])"
      ],
      "metadata": {
        "colab": {
          "base_uri": "https://localhost:8080/"
        },
        "outputId": "35ad77d6-7377-4ff4-c337-91309c1a1cfd",
        "id": "f6MfOMbyKWUP"
      },
      "execution_count": null,
      "outputs": [
        {
          "output_type": "stream",
          "name": "stdout",
          "text": [
            "specialized\n"
          ]
        }
      ]
    },
    {
      "cell_type": "code",
      "source": [
        "bikes = ['trek', 'cannondale', 'redline', 'specialized']\n",
        "message = f'My first bike was a {bikes[0].title()}.'\n",
        "print(message)"
      ],
      "metadata": {
        "colab": {
          "base_uri": "https://localhost:8080/"
        },
        "outputId": "243ab90f-f1cb-441d-daa9-726286f5c804",
        "id": "KTpMetZSKjvN"
      },
      "execution_count": null,
      "outputs": [
        {
          "output_type": "stream",
          "name": "stdout",
          "text": [
            "My first bike was a Trek.\n"
          ]
        }
      ]
    },
    {
      "cell_type": "code",
      "source": [
        "FriendNames = ['hayden', 'sheedy', 'eirik', 'deion']\n",
        "print(FriendNames[0].title())\n",
        "print(FriendNames[1].title())\n",
        "print(FriendNames[2].title())\n",
        "print(FriendNames[3].title())"
      ],
      "metadata": {
        "colab": {
          "base_uri": "https://localhost:8080/"
        },
        "id": "gzRKwlJGJXEL",
        "outputId": "f410cff6-ea9e-4f8f-fd78-2b949a05e356"
      },
      "execution_count": null,
      "outputs": [
        {
          "output_type": "stream",
          "name": "stdout",
          "text": [
            "Hayden\n",
            "Sheedy\n",
            "Eirik\n",
            "Deion\n"
          ]
        }
      ]
    },
    {
      "cell_type": "code",
      "source": [
        "FriendNames = ['hayden', 'sheedy', 'eirik', 'deion']\n",
        "messageA = f'hi whats up {FriendNames[0].title()}'\n",
        "messageB = f'hi whats up {FriendNames[1].title()}'\n",
        "messageC = f'hi whats up {FriendNames[2].title()}'\n",
        "messageD = f'hi whats up {FriendNames[3].title()}'\n",
        "print(messageA)\n",
        "print(messageB)\n",
        "print(messageC)\n",
        "print(messageD)"
      ],
      "metadata": {
        "colab": {
          "base_uri": "https://localhost:8080/"
        },
        "outputId": "54808ae8-ba2e-440e-e0c7-0930f1172e97",
        "id": "kd6UG6n3N1ew"
      },
      "execution_count": null,
      "outputs": [
        {
          "output_type": "stream",
          "name": "stdout",
          "text": [
            "hi whats up Hayden\n",
            "hi whats up Sheedy\n",
            "hi whats up Eirik\n",
            "hi whats up Deion\n"
          ]
        }
      ]
    },
    {
      "cell_type": "code",
      "source": [
        "FavoriteCars = ['corvette', 'supra', 'porsha 9/11', 'gtr']\n",
        "messageA = f'I hope to have a {FavoriteCars[0].title()} someday'\n",
        "messageB = f' {FavoriteCars[1].title()}s are my favorite of the small more affordable sports cars '\n",
        "messageC = f'{FavoriteCars[2].title()} will always hold a special place in my heart'\n",
        "messageD = f'{FavoriteCars[3].title()}s are my least favorite sports cars'\n",
        "print(messageA)\n",
        "print(messageB)\n",
        "print(messageC)\n",
        "print(messageD)"
      ],
      "metadata": {
        "colab": {
          "base_uri": "https://localhost:8080/"
        },
        "outputId": "f087f870-fb69-42a0-91ae-a88110ba0a43",
        "id": "hBbM2Vp2PwrR"
      },
      "execution_count": null,
      "outputs": [
        {
          "output_type": "stream",
          "name": "stdout",
          "text": [
            "I hope to have a Corvette someday\n",
            " Supras are my favorite of the small more affordable sports cars \n",
            "Porsha 9/11 will always hold a special place in my heart\n",
            "Gtrs are my least favorite sports cars\n"
          ]
        }
      ]
    },
    {
      "cell_type": "code",
      "source": [
        "motorcyles = ['honda', 'yamaha', 'suzuki']\n",
        "motorcyles[1] = 'ducati'\n",
        "print(motorcyles)\n"
      ],
      "metadata": {
        "colab": {
          "base_uri": "https://localhost:8080/"
        },
        "id": "LR-DKyxBNAq0",
        "outputId": "3e9ac938-5b17-4e4b-88ec-8ec8f5e6b907"
      },
      "execution_count": null,
      "outputs": [
        {
          "output_type": "stream",
          "name": "stdout",
          "text": [
            "['honda', 'ducati', 'suzuki']\n"
          ]
        }
      ]
    },
    {
      "cell_type": "code",
      "source": [
        "motorcyles = ['honda', 'yamaha', 'suzuki']\n",
        "motorcyles.append('ducati')\n",
        "print(motorcyles)\n"
      ],
      "metadata": {
        "colab": {
          "base_uri": "https://localhost:8080/"
        },
        "outputId": "8b92648b-3104-4061-b98a-b961a8b2d218",
        "id": "JuMkEdK3Uola"
      },
      "execution_count": null,
      "outputs": [
        {
          "output_type": "stream",
          "name": "stdout",
          "text": [
            "['honda', 'yamaha', 'suzuki', 'ducati']\n"
          ]
        }
      ]
    },
    {
      "cell_type": "code",
      "source": [
        "motorcyles = []\n",
        "motorcyles.append('honda')\n",
        "motorcyles.append('yamaha')\n",
        "motorcyles.append('suzuki')\n",
        "print(motorcyles)"
      ],
      "metadata": {
        "colab": {
          "base_uri": "https://localhost:8080/"
        },
        "id": "jlhoXCWfTYM0",
        "outputId": "921a0295-d3ea-481d-cb79-6f94001a5313"
      },
      "execution_count": null,
      "outputs": [
        {
          "output_type": "stream",
          "name": "stdout",
          "text": [
            "['honda', 'yamaha', 'suzuki']\n"
          ]
        }
      ]
    },
    {
      "cell_type": "code",
      "source": [],
      "metadata": {
        "id": "Z7kCLF1eVpkj"
      },
      "execution_count": null,
      "outputs": []
    },
    {
      "cell_type": "code",
      "source": [
        "motorcyles = []\n",
        "motorcyles.append('honda')\n",
        "motorcyles.append('yamaha')\n",
        "motorcyles.append('suzuki')\n",
        "motorcyles.insert(0,'chevy')\n",
        "print(motorcyles)"
      ],
      "metadata": {
        "colab": {
          "base_uri": "https://localhost:8080/"
        },
        "outputId": "35bd382c-3567-4210-db21-739d2723e9b7",
        "id": "0M2n81QAVzl9"
      },
      "execution_count": null,
      "outputs": [
        {
          "output_type": "stream",
          "name": "stdout",
          "text": [
            "['chevy', 'honda', 'yamaha', 'suzuki']\n"
          ]
        }
      ]
    },
    {
      "cell_type": "code",
      "source": [],
      "metadata": {
        "id": "bVCkZlOBWNKl"
      },
      "execution_count": null,
      "outputs": []
    },
    {
      "cell_type": "code",
      "source": [
        "motorcyles = []\n",
        "motorcyles.append('honda')\n",
        "motorcyles.append('yamaha')\n",
        "motorcyles.append('suzuki')\n",
        "motorcyles.insert(2,'chevy')\n",
        "print(motorcyles)"
      ],
      "metadata": {
        "colab": {
          "base_uri": "https://localhost:8080/"
        },
        "outputId": "b56d8bc8-c86f-4cdc-962b-b7aae5ef40dc",
        "id": "z_YmwO_vWOXF"
      },
      "execution_count": null,
      "outputs": [
        {
          "output_type": "stream",
          "name": "stdout",
          "text": [
            "['honda', 'yamaha', 'chevy', 'suzuki']\n"
          ]
        }
      ]
    },
    {
      "cell_type": "code",
      "source": [],
      "metadata": {
        "id": "ezY-oLzbWn4T"
      },
      "execution_count": null,
      "outputs": []
    },
    {
      "cell_type": "code",
      "source": [
        "motorcyles = []\n",
        "motorcyles.append('honda')\n",
        "motorcyles.append('yamaha')\n",
        "motorcyles.append('suzuki')\n",
        "motorcyles.insert(2,'chevy')\n",
        "del motorcyles[0]\n",
        "print(motorcyles)"
      ],
      "metadata": {
        "colab": {
          "base_uri": "https://localhost:8080/"
        },
        "outputId": "5e2fc704-0280-42b4-ec3c-56bb7d9e3c84",
        "id": "9zAPHonGW5UV"
      },
      "execution_count": null,
      "outputs": [
        {
          "output_type": "stream",
          "name": "stdout",
          "text": [
            "['yamaha', 'chevy', 'suzuki']\n"
          ]
        }
      ]
    },
    {
      "cell_type": "code",
      "source": [
        "motorcyles = []\n",
        "motorcyles.append('honda')\n",
        "motorcyles.append('yamaha')\n",
        "motorcyles.append('suzuki')\n",
        "motorcyles.insert(2,'chevy')\n",
        "del motorcyles[0]\n",
        "popped_motorcyle = motorcyles.pop()\n",
        "print(motorcyles)\n",
        "print(popped_motorcyle)"
      ],
      "metadata": {
        "colab": {
          "base_uri": "https://localhost:8080/"
        },
        "outputId": "dc233f17-fb20-46d3-952d-fb2a766cc655",
        "id": "OI63ZWT3ZNdG"
      },
      "execution_count": null,
      "outputs": [
        {
          "output_type": "stream",
          "name": "stdout",
          "text": [
            "['yamaha', 'chevy']\n",
            "suzuki\n"
          ]
        }
      ]
    },
    {
      "cell_type": "code",
      "source": [
        "motorcyles = []\n",
        "motorcyles.append('honda')\n",
        "motorcyles.append('yamaha')\n",
        "motorcyles.append('suzuki')\n",
        "motorcyles.insert(2,'chevy')\n",
        "del motorcyles[0]\n",
        "print(motorcyles)"
      ],
      "metadata": {
        "colab": {
          "base_uri": "https://localhost:8080/"
        },
        "outputId": "5e2fc704-0280-42b4-ec3c-56bb7d9e3c84",
        "id": "fJaGippyZ4jV"
      },
      "execution_count": null,
      "outputs": [
        {
          "output_type": "stream",
          "name": "stdout",
          "text": [
            "['yamaha', 'chevy', 'suzuki']\n"
          ]
        }
      ]
    },
    {
      "cell_type": "code",
      "source": [
        "motorcyles = ['honda', 'yamaha', 'suzuki']"
      ],
      "metadata": {
        "id": "4SUKoMN7aX3U"
      },
      "execution_count": null,
      "outputs": []
    },
    {
      "cell_type": "code",
      "source": [],
      "metadata": {
        "id": "ou0O_oG3cSwD"
      },
      "execution_count": null,
      "outputs": []
    }
  ]
}