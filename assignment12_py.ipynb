{
  "nbformat": 4,
  "nbformat_minor": 0,
  "metadata": {
    "colab": {
      "provenance": [],
      "authorship_tag": "ABX9TyMbKm6GR2l1rn2+My10Os/y",
      "include_colab_link": true
    },
    "kernelspec": {
      "name": "python3",
      "display_name": "Python 3"
    },
    "language_info": {
      "name": "python"
    }
  },
  "cells": [
    {
      "cell_type": "markdown",
      "metadata": {
        "id": "view-in-github",
        "colab_type": "text"
      },
      "source": [
        "<a href=\"https://colab.research.google.com/github/dlave002/CSC221_dlave002/blob/main/assignment12_py.ipynb\" target=\"_parent\"><img src=\"https://colab.research.google.com/assets/colab-badge.svg\" alt=\"Open In Colab\"/></a>"
      ]
    },
    {
      "cell_type": "code",
      "execution_count": null,
      "metadata": {
        "colab": {
          "base_uri": "https://localhost:8080/"
        },
        "id": "sZeu3BD1CkiD",
        "outputId": "1ebf4bc3-722a-4a37-b0ae-b76b62b6e910"
      },
      "outputs": [
        {
          "output_type": "stream",
          "name": "stdout",
          "text": [
            "my Coin Value is :  Quarter\n",
            "my Bill Value is :  $1\n",
            "my value is:  USD\n"
          ]
        }
      ],
      "source": [
        "class Money:\n",
        "  def __init__(self, value):\n",
        "    self.value = value\n",
        "  def getMoneyValue(self):\n",
        "    print(\"my value is: \", self.value)\n",
        "\n",
        "class Bill(Money):\n",
        "  def __init__(self, value, BillValue):\n",
        "    super().__init__(value)\n",
        "    self.BillValue = BillValue\n",
        "  def getBillValue(self):\n",
        "    print(\"my Bill Value is : \", self.BillValue)\n",
        "\n",
        "class Coins(Bill):\n",
        "  def __init__(self, value, BillValue, CoinValue):\n",
        "    super().__init__(value, BillValue)\n",
        "    self.CoinValue = CoinValue\n",
        "  def getCoinValue(self):\n",
        "      print(\"my Coin Value is : \", self.CoinValue)\n",
        "\n",
        "coin = Coins(\"USD\", \"$1\", \"Quarter\")\n",
        "coin.getCoinValue()\n",
        "coin.getBillValue()\n",
        "coin.getMoneyValue()\n"
      ]
    }
  ]
}