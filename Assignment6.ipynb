{
  "nbformat": 4,
  "nbformat_minor": 0,
  "metadata": {
    "colab": {
      "provenance": [],
      "authorship_tag": "ABX9TyPbCfEO5SW2wTgWGQIreFNs",
      "include_colab_link": true
    },
    "kernelspec": {
      "name": "python3",
      "display_name": "Python 3"
    },
    "language_info": {
      "name": "python"
    }
  },
  "cells": [
    {
      "cell_type": "markdown",
      "metadata": {
        "id": "view-in-github",
        "colab_type": "text"
      },
      "source": [
        "<a href=\"https://colab.research.google.com/github/dlave002/CSC221_dlave002/blob/main/Assignment6.ipynb\" target=\"_parent\"><img src=\"https://colab.research.google.com/assets/colab-badge.svg\" alt=\"Open In Colab\"/></a>"
      ]
    },
    {
      "cell_type": "code",
      "execution_count": null,
      "metadata": {
        "colab": {
          "base_uri": "https://localhost:8080/"
        },
        "id": "ruUgiidZzrUS",
        "outputId": "20ac89fb-86a3-4e73-fe17-53ac96b1907f"
      },
      "outputs": [
        {
          "output_type": "stream",
          "name": "stdout",
          "text": [
            "Audi\n",
            "BMW\n",
            "Subaru\n",
            "Toyota\n"
          ]
        }
      ],
      "source": [
        "cars = ['audi', 'bmw', 'subaru', 'toyota']\n",
        "for car in cars:\n",
        "  if car == 'bmw':\n",
        "    print(car.upper())\n",
        "  else:\n",
        "    print(car.title())\n"
      ]
    },
    {
      "cell_type": "code",
      "source": [],
      "metadata": {
        "id": "_rctZIdivllT"
      },
      "execution_count": null,
      "outputs": []
    },
    {
      "cell_type": "code",
      "source": [
        "car = 'Audi'\n",
        "car.lower() == 'audi'\n"
      ],
      "metadata": {
        "colab": {
          "base_uri": "https://localhost:8080/"
        },
        "id": "xGNNa_EpCOBd",
        "outputId": "db4bc2f3-7252-4f0b-e2e5-e889ae6e2e16"
      },
      "execution_count": null,
      "outputs": [
        {
          "output_type": "execute_result",
          "data": {
            "text/plain": [
              "True"
            ]
          },
          "metadata": {},
          "execution_count": 2
        }
      ]
    },
    {
      "cell_type": "code",
      "source": [
        "#5-1 Question\n",
        "carparts = 'motor', 'muffler', 'windshield', 'rims', 'tires'\n",
        "print('Does carparts == \"muffler\"? it should be True')\n",
        "print(carparts == 'muffler')"
      ],
      "metadata": {
        "id": "T1PpLl3hClef",
        "colab": {
          "base_uri": "https://localhost:8080/"
        },
        "outputId": "70873e74-13ac-4a46-8970-649ceb12228f"
      },
      "execution_count": null,
      "outputs": [
        {
          "output_type": "stream",
          "name": "stdout",
          "text": [
            "Does carparts == \"muffler\"? it should be True\n",
            "False\n"
          ]
        }
      ]
    },
    {
      "cell_type": "code",
      "source": [
        "#5-2 questions because of 5-1\n"
      ],
      "metadata": {
        "id": "JLmlxwpz_2DA"
      },
      "execution_count": null,
      "outputs": []
    },
    {
      "cell_type": "code",
      "source": [
        "age = 17\n",
        "if age >= 18:\n",
        "  print('You are old enough to vote!')\n",
        "else:\n",
        "  print('Not yet child')\n",
        "  print('Go home')"
      ],
      "metadata": {
        "colab": {
          "base_uri": "https://localhost:8080/"
        },
        "id": "8Pkylux5AaKY",
        "outputId": "b7ad4e14-bc20-4811-a64b-84ff95bc53df"
      },
      "execution_count": null,
      "outputs": [
        {
          "output_type": "stream",
          "name": "stdout",
          "text": [
            "Not yet child\n",
            "Go home\n"
          ]
        }
      ]
    },
    {
      "cell_type": "code",
      "source": [
        "age = 12\n",
        "if age < 4:\n",
        "  price = 0\n",
        "elif age < 18:\n",
        "  price = 25\n",
        "else:\n",
        "  price = 40\n",
        "print(f'Your admission cost is ${price}.')"
      ],
      "metadata": {
        "colab": {
          "base_uri": "https://localhost:8080/"
        },
        "id": "EKwSFfD7B6th",
        "outputId": "96bf7397-d555-4e7d-f8b2-d5294691443e"
      },
      "execution_count": null,
      "outputs": [
        {
          "output_type": "stream",
          "name": "stdout",
          "text": [
            "Your admission cost is $25.\n"
          ]
        }
      ]
    },
    {
      "cell_type": "code",
      "source": [
        "age = 63\n",
        "if age < 4:\n",
        "  price = 0\n",
        "elif age  < 18:\n",
        "  price = 25\n",
        "elif age > 65:\n",
        "  price = 10\n",
        "\n",
        "else:\n",
        "  price = 40\n",
        "print(f'Your admmision cost is ${price}.')"
      ],
      "metadata": {
        "colab": {
          "base_uri": "https://localhost:8080/"
        },
        "id": "28iPj6vPHSBc",
        "outputId": "79dd4854-3c5d-4269-b54d-f2d48a17fa4b"
      },
      "execution_count": null,
      "outputs": [
        {
          "output_type": "stream",
          "name": "stdout",
          "text": [
            "Your admmision cost is $40.\n"
          ]
        }
      ]
    },
    {
      "cell_type": "code",
      "source": [
        "requested_toppings = ['mushrooms', 'extra cheese']\n",
        "if 'mushrooms' in requested_toppings:\n",
        "  print('Adding mushrooms.')\n",
        "if 'pepperoni' in requested_toppings:\n",
        "  print('adding pepperoni')\n",
        "if 'extra cheese' in requested_toppings:\n",
        "  print('adding extra cheese')\n",
        "print('\\nFinished making your pizza!')"
      ],
      "metadata": {
        "colab": {
          "base_uri": "https://localhost:8080/"
        },
        "id": "wzlK0AQrIyt5",
        "outputId": "3f7f1c91-ab06-4d47-f6ee-e628e8d2d70a"
      },
      "execution_count": null,
      "outputs": [
        {
          "output_type": "stream",
          "name": "stdout",
          "text": [
            "Adding mushrooms.\n",
            "adding extra cheese\n",
            "\n",
            "Finished making your pizza!\n"
          ]
        }
      ]
    },
    {
      "cell_type": "code",
      "source": [
        "#5-3\n",
        "alien_color = 'green'\n",
        "if alien_color == 'green':\n",
        "  print('You just earned 5 points')\n",
        "else:\n",
        "  print('you hit a frienly')\n"
      ],
      "metadata": {
        "colab": {
          "base_uri": "https://localhost:8080/"
        },
        "outputId": "f905640d-3acf-44dc-9a55-7e59c1ec10b6",
        "id": "TGiy3kokNTU_"
      },
      "execution_count": null,
      "outputs": [
        {
          "output_type": "stream",
          "name": "stdout",
          "text": [
            "You just earned 5 points\n"
          ]
        }
      ]
    },
    {
      "cell_type": "code",
      "source": [
        "#5-3 part 2\n",
        "alien_color = 'green'\n",
        "if alien_color == 'red':\n",
        "  print('You just earned 5 points')\n",
        "else:\n",
        "  print('You just hit a friendly')\n"
      ],
      "metadata": {
        "colab": {
          "base_uri": "https://localhost:8080/"
        },
        "id": "E9MsUAjjLyb7",
        "outputId": "488f3b16-1392-45bd-e2ad-dff73043de50"
      },
      "execution_count": null,
      "outputs": [
        {
          "output_type": "stream",
          "name": "stdout",
          "text": [
            "You just hit a friendly\n"
          ]
        }
      ]
    },
    {
      "cell_type": "code",
      "source": [
        "#5-6\n",
        "age = 22\n",
        "if age <= 2:\n",
        "  print(\"you are baby\")\n",
        "elif age > 2 and age <= 4:\n",
        "  print('you are toddler')\n",
        "elif age > 4 and age <= 13:\n",
        "  print('YOu are a kid')\n",
        "elif age > 13 and age <= 20:\n",
        "  print('You are a teenager')\n",
        "elif age > 20 and age < 65:\n",
        "  print('You are an adult')\n",
        "else:\n",
        "  print('You are elder now')"
      ],
      "metadata": {
        "colab": {
          "base_uri": "https://localhost:8080/"
        },
        "id": "ve0byb6sN6CU",
        "outputId": "c6f6d50a-c8f6-46a3-8175-4c784bf205ef"
      },
      "execution_count": null,
      "outputs": [
        {
          "output_type": "stream",
          "name": "stdout",
          "text": [
            "You are an adult\n"
          ]
        }
      ]
    },
    {
      "cell_type": "code",
      "source": [
        "#5\n",
        "#I feel like I wrote these conditions in a good manor"
      ],
      "metadata": {
        "id": "ugGOSHVbQ8G5"
      },
      "execution_count": null,
      "outputs": []
    },
    {
      "cell_type": "code",
      "source": [
        "#make something that prints information specific car brand when the name is called\n",
        "bmw = ('fast engine', 'loud exhaust', 'expensive to repair')\n",
        "hyundia = ('slow engine', 'poor reliability')\n",
        "subaru = ('reliable', 'no bad head gaskets ', 'easy to repair')\n",
        "inp = input('pick a car: ')\n",
        "if inp == 'bmw':\n",
        "  print(bmw)\n",
        "if inp == 'hyundia':\n",
        "  print(hyundia)\n",
        "if inp == 'subaru':\n",
        "  print(subaru)"
      ],
      "metadata": {
        "id": "TRapgGYRvnTr",
        "colab": {
          "base_uri": "https://localhost:8080/"
        },
        "outputId": "0de59300-396f-486a-f95f-57fee40efd91"
      },
      "execution_count": 23,
      "outputs": [
        {
          "output_type": "stream",
          "name": "stdout",
          "text": [
            "pick a car: subaru\n",
            "('reliable', 'no bad head gaskets ', 'easy to repair')\n"
          ]
        }
      ]
    },
    {
      "cell_type": "code",
      "source": [],
      "metadata": {
        "id": "UoE9JuafqFz1"
      },
      "execution_count": null,
      "outputs": []
    }
  ]
}