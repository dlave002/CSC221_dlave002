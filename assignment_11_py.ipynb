{
  "cells": [
    {
      "cell_type": "markdown",
      "metadata": {
        "id": "view-in-github",
        "colab_type": "text"
      },
      "source": [
        "<a href=\"https://colab.research.google.com/github/dlave002/CSC221_dlave002/blob/main/assignment_11_py.ipynb\" target=\"_parent\"><img src=\"https://colab.research.google.com/assets/colab-badge.svg\" alt=\"Open In Colab\"/></a>"
      ]
    },
    {
      "cell_type": "code",
      "execution_count": null,
      "metadata": {
        "id": "bimJaPhJTj9k"
      },
      "outputs": [],
      "source": [
        "class Dog:\n",
        "  def __init__(self, name, age):\n",
        "    self.name = name\n",
        "    self.age = age\n",
        "  def sit(self):\n",
        "    print(f\"{self.name} is now sitting.\")\n",
        "  def roll_over(self):\n",
        "    print(f\"{self.name} rolled over! \")"
      ]
    },
    {
      "cell_type": "code",
      "execution_count": null,
      "metadata": {
        "colab": {
          "base_uri": "https://localhost:8080/"
        },
        "id": "RRipfk-B23Wu",
        "outputId": "27831c62-0590-4896-8a6a-e84efef3ea92"
      },
      "outputs": [
        {
          "name": "stdout",
          "output_type": "stream",
          "text": [
            "My dog's name is Willie.\n",
            "My dog is 6 years old.\n"
          ]
        }
      ],
      "source": [
        "#class Dog:\n",
        "  #--snip--\n",
        "my_dog = Dog ('Willie', 6)\n",
        "print(f\"My dog's name is {my_dog.name}.\")\n",
        "print(f\"My dog is {my_dog.age} years old.\")"
      ]
    },
    {
      "cell_type": "code",
      "execution_count": null,
      "metadata": {
        "colab": {
          "base_uri": "https://localhost:8080/"
        },
        "id": "q3VX_OfJ4Jrr",
        "outputId": "1fe214a8-10d2-4102-8b61-12d6627456dc"
      },
      "outputs": [
        {
          "name": "stdout",
          "output_type": "stream",
          "text": [
            "Willie is now sitting.\n",
            "Willie rolled over! \n"
          ]
        }
      ],
      "source": [
        "my_dog = Dog('Willie', 6)\n",
        "my_dog.sit()\n",
        "my_dog.roll_over()"
      ]
    },
    {
      "cell_type": "code",
      "execution_count": null,
      "metadata": {
        "colab": {
          "base_uri": "https://localhost:8080/"
        },
        "id": "2Y1R3VLj4c-8",
        "outputId": "fb81d43f-e644-4bd3-f234-5a8dd71a0c4b"
      },
      "outputs": [
        {
          "name": "stdout",
          "output_type": "stream",
          "text": [
            "My dog's name is Willie.\n",
            "My doig is 6 years old.\n",
            "Willie is now sitting.\n",
            "\n",
            "Your dog's name is Willie.\n",
            "Your dog is 6 years old.\n",
            "lucy is now sitting.\n"
          ]
        }
      ],
      "source": [
        "my_dog = Dog('Willie',6)\n",
        "your_dog = Dog('lucy',3)\n",
        "print(f\"My dog's name is {my_dog.name}.\")\n",
        "print(f\"My doig is {my_dog.age} years old.\")\n",
        "my_dog.sit()\n",
        "\n",
        "print(f\"\\nYour dog's name is {my_dog.name}.\")\n",
        "print(f\"Your dog is {my_dog.age} years old.\")\n",
        "your_dog.sit()"
      ]
    },
    {
      "cell_type": "code",
      "execution_count": null,
      "metadata": {
        "id": "yjVoubG9BWUK",
        "outputId": "bf45b9e5-6674-48c1-c44d-dedc62cdf0ce",
        "colab": {
          "base_uri": "https://localhost:8080/"
        }
      },
      "outputs": [
        {
          "output_type": "stream",
          "name": "stdout",
          "text": [
            "restaurant name: pairy\n",
            "cusine type: french\n",
            "Restaurant Name: pairy\n",
            "Cuisine Type: french\n",
            "pairy is open\n"
          ]
        }
      ],
      "source": [
        "#9-1 possibly part of 9-2 need to get it checked\n",
        "class Restaurant:\n",
        "  def __init__(self, restaurant_name, cuisine_type):\n",
        "    self.restaurant_name = restaurant_name\n",
        "    self.cuisine_type = cuisine_type\n",
        "  def describe_restaurant(self):\n",
        "    print(f\"Restaurant Name: {self.restaurant_name}\")\n",
        "    print(f\"Cuisine Type: {self.cuisine_type}\")\n",
        "  def open_restaurant(self):\n",
        "    print(f\"{self.restaurant_name} is open\")\n",
        "\n",
        "restaurant = Restaurant(\"pairy\", 'french')\n",
        "\n",
        "print('restaurant name:', restaurant.restaurant_name)\n",
        "print('cusine type:', restaurant.cuisine_type)\n",
        "\n",
        "restaurant.describe_restaurant()\n",
        "restaurant.open_restaurant()"
      ]
    },
    {
      "cell_type": "code",
      "execution_count": 9,
      "metadata": {
        "id": "mISdkfnzCS03",
        "outputId": "a6a30e27-5eb9-46a6-f82f-8e671f77b255",
        "colab": {
          "base_uri": "https://localhost:8080/"
        }
      },
      "outputs": [
        {
          "output_type": "stream",
          "name": "stdout",
          "text": [
            "Restaurant Name: noodle\n",
            "Cuisine Type: italian\n",
            "Restaurant Name: burger\n",
            "Cuisine Type: american\n",
            "Restaurant Name: lo mein \n",
            "Cuisine Type: Chinese\n"
          ]
        }
      ],
      "source": [
        "''' # 9-2 '''\n",
        "class Restaurant:\n",
        "\n",
        "  r1 = Restaurant(\"noodle\", \"italian\")\n",
        "  r2 = Restaurant(\"burger\",\"american\")\n",
        "  r3 = Restaurant(\"lo mein \",\"Chinese\")\n",
        "\n",
        "r1.describe_restaurant()\n",
        "r2.describe_restaurant()\n",
        "r3.describe_restaurant()"
      ]
    },
    {
      "cell_type": "code",
      "execution_count": null,
      "metadata": {
        "colab": {
          "base_uri": "https://localhost:8080/"
        },
        "id": "CXTZ0cHdjwAd",
        "outputId": "36d9f882-c296-4ec6-efb3-6bb5c20ba3fb"
      },
      "outputs": [
        {
          "name": "stdout",
          "output_type": "stream",
          "text": [
            "First name:  David\n",
            "Last name:  LaVque\n",
            "Age:  21\n",
            "Height:  5'9\n",
            "First Name: David\n",
            "Last Name: LaVque\n",
            "Age: 21\n",
            "Height: 5'9\n",
            "Hello, David LaVque welcome to the here\n"
          ]
        }
      ],
      "source": [
        "#9-3\n",
        "class User:\n",
        "  def __init__ (self, First_name, Last_name, Age, Height ):\n",
        "    self.First_name = First_name\n",
        "    self.Last_name = Last_name\n",
        "    self.Age = Age\n",
        "    self.Height = Height\n",
        "  def describe_user (self):\n",
        "    print(f\"First Name: {self.First_name}\")\n",
        "    print(f\"Last Name: {self.Last_name}\")\n",
        "    print(f\"Age: {self.Age}\")\n",
        "    print(f\"Height: {self.Height}\")\n",
        "  def greet_user (self):\n",
        "    print(f\"Hello, {self.First_name} {self.Last_name} welcome to the here\")\n",
        "\n",
        "user = User('David', 'LaVque', 21, \"5'9\")\n",
        "\n",
        "print('First name: ', user.First_name)\n",
        "print('Last name: ', user.Last_name)\n",
        "print('Age: ', user.Age)\n",
        "print('Height: ', user.Height )\n",
        "\n",
        "user.describe_user()\n",
        "user.greet_user()"
      ]
    },
    {
      "cell_type": "code",
      "execution_count": null,
      "metadata": {
        "colab": {
          "base_uri": "https://localhost:8080/"
        },
        "id": "fMx6VU_ZtFSa",
        "outputId": "77d7b5a3-9ee2-4f61-f9f7-b87f93963d2e"
      },
      "outputs": [
        {
          "output_type": "stream",
          "name": "stdout",
          "text": [
            "2024 Audi A4\n"
          ]
        }
      ],
      "source": [
        "class Car:\n",
        "  def __init__ (self, make, model, year):\n",
        "    self.make = make\n",
        "    self.model = model\n",
        "    self.year = year\n",
        "  def get_descriptive_name(self):\n",
        "    long_name = f\"{self.year} {self.make} {self.model}\"\n",
        "    return long_name.title()\n",
        "my_new_car = Car('audi', 'a4', 2024)\n",
        "print(my_new_car.get_descriptive_name())\n"
      ]
    },
    {
      "cell_type": "code",
      "execution_count": null,
      "metadata": {
        "id": "pUxTbQPs75GC"
      },
      "outputs": [],
      "source": [
        "#I don't understand how self.read_odometer = 0 can be there without anything in init()\n",
        "class Car:\n",
        "\n",
        "  def __init__ (self, make, model, year):\n",
        "    self.make = make\n",
        "    self.model = model\n",
        "    self.year = year\n",
        "    self.odometer_reading = 0\n",
        "\n",
        "  def get_descriptive_name(self):\n",
        "     long_name = f\"{self.year} {self.make} {self.model}\"\n",
        "     return long_name.title()\n",
        "\n",
        "  def read_odometer(self):\n",
        "      print(f\"This car has {self.odometer_reading} miles on it\")\n",
        "\n",
        "  def update_odometer (self, mileage):\n",
        "      self.odometer_reading = mileage\n",
        "\n",
        "#my_new_car = Car('audi', 'a4', 2024)\n",
        "#print(my_new_car.get_descriptive_name())\n",
        "\n",
        "#my_new_car.read_odometer()"
      ]
    },
    {
      "cell_type": "code",
      "execution_count": null,
      "metadata": {
        "colab": {
          "base_uri": "https://localhost:8080/"
        },
        "id": "Fq03NSH592K4",
        "outputId": "290bf834-3a83-42e4-c43c-6346314933bd"
      },
      "outputs": [
        {
          "output_type": "stream",
          "name": "stdout",
          "text": [
            "2024 Audi A4\n",
            "This car has 23 miles on it\n"
          ]
        }
      ],
      "source": [
        "#danger code do not touch if touched it will break for no reason Edit nvm future code is hurting it\n",
        "#class Car:\n",
        "my_new_car = Car('audi', 'a4', 2024)\n",
        "print(my_new_car.get_descriptive_name())\n",
        "\n",
        "my_new_car.odometer_reading = 23\n",
        "my_new_car.read_odometer()"
      ]
    },
    {
      "cell_type": "code",
      "execution_count": null,
      "metadata": {
        "colab": {
          "base_uri": "https://localhost:8080/"
        },
        "id": "DbdP9xvcB77P",
        "outputId": "99c34b84-71a6-41e7-df22-22fb1e794688"
      },
      "outputs": [
        {
          "output_type": "stream",
          "name": "stdout",
          "text": [
            "2024 Audi A4\n",
            "This car has 23 miles on it\n"
          ]
        }
      ],
      "source": [
        "#possibly the same problem as above\n",
        "#class Car:\n",
        "\n",
        "#my_new_car = Car('audi', 'a4', 2024)\n",
        "print(my_new_car.get_descriptive_name())\n",
        "\n",
        "my_new_car.update_odometer(23)\n",
        "my_new_car.read_odometer()"
      ]
    },
    {
      "cell_type": "code",
      "execution_count": null,
      "metadata": {
        "id": "nF-k52jADAG8"
      },
      "outputs": [],
      "source": [
        "#Dont fully understanding whats not working here or if its jsut supposed to be blank\n",
        "class Car:\n",
        "  def __init__ (self, make, model, year):\n",
        "    self.make = make\n",
        "    self.model = model\n",
        "    self.year = year\n",
        "    self.odometer_reading = 0\n",
        "  def update_odometer(self, mileage):\n",
        "    if mileage >=  self.odometer_reading:\n",
        "      self.odometer_reading = mileage\n",
        "    else:\n",
        "      print(\"You can not roll back an odomenter!\")\n",
        "\n",
        "  def get_descriptive_name(self):\n",
        "    long_name = f\"{self.year} {self.make} {self.model}\"\n",
        "    return long_name.title()\n",
        "\n",
        "  def read_odometer(self):\n",
        "    print(f\"This car has {self.odometer_reading} miles on it\")\n",
        "\n",
        "  def increment_odometer(self, miles):\n",
        "    self.odometer_reading += miles"
      ]
    },
    {
      "cell_type": "code",
      "execution_count": null,
      "metadata": {
        "colab": {
          "base_uri": "https://localhost:8080/"
        },
        "id": "ZKG120HIEcgV",
        "outputId": "9062565e-276a-4b1d-b6e1-cc2ff00039e3"
      },
      "outputs": [
        {
          "output_type": "stream",
          "name": "stdout",
          "text": [
            "2019 Subaru Outback\n",
            "This car has 23500 miles on it\n",
            "This car has 23600 miles on it\n"
          ]
        }
      ],
      "source": [
        "#class Car:\n",
        " # def update_odometer(self, mileage):\n",
        "\n",
        "  #  def increment_odometer(self, miles):\n",
        "   #   self.odometer_reading += miles\n",
        "\n",
        "my_used_car = Car('subaru', 'outback', 2019)\n",
        "print(my_used_car.get_descriptive_name())\n",
        "\n",
        "my_used_car.update_odometer(23_500)\n",
        "my_used_car.read_odometer()\n",
        "\n",
        "my_used_car.increment_odometer(100)\n",
        "my_used_car.read_odometer()"
      ]
    },
    {
      "cell_type": "code",
      "execution_count": null,
      "metadata": {
        "colab": {
          "base_uri": "https://localhost:8080/"
        },
        "id": "Bf8FTLG9I0aT",
        "outputId": "b3ea7761-6a98-443f-ffbf-61fafefe02f0"
      },
      "outputs": [
        {
          "output_type": "stream",
          "name": "stdout",
          "text": [
            "2024 Nissian Leaf\n"
          ]
        }
      ],
      "source": [
        "\n",
        "class Car:\n",
        "  def __init__(self, make, model, year):\n",
        "    self.make = make\n",
        "    self.model = model\n",
        "    self.year = year\n",
        "    self.odomenter_reading = 0\n",
        "\n",
        "  def get_descriptive_name(self):\n",
        "    long_name = f\"{self.year} {self.make} {self.model}\"\n",
        "    return long_name.title()\n",
        "  def read_odometer(self):\n",
        "    print(f\"This car has {self.odometer_reading} miles on it.\")\n",
        "  def update_odometer(self, mileage):\n",
        "    if mileage >= self.odometer_reading:\n",
        "      self.odometer_reading = mileage\n",
        "    else:\n",
        "      print(\"You can't roll back an odometer!\")\n",
        "  def increment_odometer(self, miles):\n",
        "    self.odometer_reading += miles\n",
        "\n",
        "class ElectricCar(Car):\n",
        "  def __init__(self, make, model, year):\n",
        "    super().__init__(make, model, year)\n",
        "\n",
        "my_leaf = ElectricCar('nissian', 'leaf', 2024)\n",
        "print(my_leaf.get_descriptive_name())"
      ]
    },
    {
      "cell_type": "code",
      "execution_count": null,
      "metadata": {
        "colab": {
          "base_uri": "https://localhost:8080/"
        },
        "outputId": "c211cd97-fe2b-43ed-ff3f-2b8707418912",
        "id": "o4MnFu5FgCNz"
      },
      "outputs": [
        {
          "output_type": "stream",
          "name": "stdout",
          "text": [
            "2024 Nissan Leaf\n",
            "This car has 40-kWh battery.\n"
          ]
        }
      ],
      "source": [
        "\n",
        "class ElectricCar(Car):\n",
        "  def __init__(self, make, model, year):\n",
        "    super().__init__(make, model, year)\n",
        "    self.battery_size = 40\n",
        "\n",
        "  def describe_battery(self):\n",
        "    print(f\"This car has {self.battery_size}-kWh battery.\")\n",
        "\n",
        "my_leaf = ElectricCar('nissan', 'leaf', 2024)\n",
        "print(my_leaf.get_descriptive_name())\n",
        "my_leaf.describe_battery()\n"
      ]
    },
    {
      "cell_type": "code",
      "execution_count": null,
      "metadata": {
        "id": "RDeEmMZzQZ__"
      },
      "outputs": [],
      "source": [
        "class ElecticCar(Car):\n",
        "  def fill_gas_tank(self):\n",
        "    print(\"This car doe not have a gas tank!\")"
      ]
    },
    {
      "cell_type": "code",
      "execution_count": null,
      "metadata": {
        "colab": {
          "base_uri": "https://localhost:8080/"
        },
        "id": "xhSOQj8ZQ0yr",
        "outputId": "1be846a8-1345-4669-e2ba-09ca7b43f3a8"
      },
      "outputs": [
        {
          "output_type": "stream",
          "name": "stdout",
          "text": [
            "2024 Nissan Leaf\n",
            "This car has 40-kWh battery.\n"
          ]
        }
      ],
      "source": [
        "class Battery:\n",
        "  def __init__(self, battery_size=40):\n",
        "    self.battery_size = battery_size\n",
        "\n",
        "  def describe_battery(self):\n",
        "    print(f\"This car has {self.battery_size}-kWh battery.\")\n",
        "\n",
        "class ElecticCar(Car):\n",
        "  def __init__(self, make, model, year):\n",
        "    super().__init__(make, model, year)\n",
        "    self.battery_size = 40\n",
        "\n",
        "  def describe_battery(self):\n",
        "    print(f\"This car has {self.battery_size}-kWh battery.\")\n",
        "\n",
        "my_leaf = ElecticCar('nissan','leaf',2024)\n",
        "print(my_leaf.get_descriptive_name())\n",
        "my_leaf.describe_battery()\n"
      ]
    },
    {
      "cell_type": "code",
      "execution_count": null,
      "metadata": {
        "colab": {
          "base_uri": "https://localhost:8080/"
        },
        "id": "W6DKn49UTpB1",
        "outputId": "1be5b37a-b1a3-44f3-81ec-ad19301bb340"
      },
      "outputs": [
        {
          "output_type": "stream",
          "name": "stdout",
          "text": [
            "2024 Nissan Leaf\n",
            "This car has 40-kWh battery.\n",
            "This car can go about 150 on a full charge.\n"
          ]
        }
      ],
      "source": [
        "class Battery:\n",
        "  def __init__(self, battery_size=40):\n",
        "    self.battery_size = battery_size\n",
        "  def get_range(self):\n",
        "    if self.battery_size == 40:\n",
        "      range = 150\n",
        "    elif self.battery_size == 65:\n",
        "      range = 225\n",
        "    print(f\"This car can go about {range} on a full charge.\")\n",
        "\n",
        "\n",
        "class ElectricCar(Car):\n",
        "  def __init__(self, make, model, year):\n",
        "    super().__init__(make, model, year)\n",
        "    self.battery = Battery()\n",
        "\n",
        "  def describe_battery(self):\n",
        "    print(f\"This car has {self.battery.battery_size}-kWh battery.\")\n",
        "\n",
        "my_leaf = ElectricCar('nissan', 'leaf', 2024)\n",
        "print(my_leaf.get_descriptive_name())\n",
        "my_leaf.describe_battery()\n",
        "my_leaf.battery.get_range()"
      ]
    },
    {
      "cell_type": "code",
      "execution_count": null,
      "metadata": {
        "id": "uwzUfktMBc-q",
        "colab": {
          "base_uri": "https://localhost:8080/"
        },
        "outputId": "78057e5c-e0cb-4cb0-8214-9b56c9d9cb4e"
      },
      "outputs": [
        {
          "output_type": "stream",
          "name": "stdout",
          "text": [
            "restaurant name: pairy\n",
            "cusine type: french\n",
            "Restaurant Name: pairy\n",
            "Cuisine Type: french\n",
            "pairy is open\n"
          ]
        }
      ],
      "source": [
        "# copy so I can work on 9-6\n",
        "class Restaurant:\n",
        "  def __init__(self, restaurant_name, cuisine_type):\n",
        "    self.restaurant_name = restaurant_name\n",
        "    self.cuisine_type = cuisine_type\n",
        "  def describe_restaurant(self):\n",
        "    print(f\"Restaurant Name: {self.restaurant_name}\")\n",
        "    print(f\"Cuisine Type: {self.cuisine_type}\")\n",
        "  def open_restaurant(self):\n",
        "    print(f\"{self.restaurant_name} is open\")\n",
        "\n",
        "restaurant = Restaurant(\"pairy\", 'french')\n",
        "\n",
        "print('restaurant name:', restaurant.restaurant_name)\n",
        "print('cusine type:', restaurant.cuisine_type)\n",
        "\n",
        "restaurant.describe_restaurant()\n",
        "restaurant.open_restaurant()"
      ]
    },
    {
      "cell_type": "code",
      "source": [
        "#9-6\n",
        "class IceCreamStand(Restaurant):\n",
        "\n",
        "  def __init__(self, flavors):\n",
        "    self.flavors = flavors\n",
        "  def flavorsList (self):\n",
        "    print(f\"The flavors are {self.flavors}\")\n",
        "\n",
        "icecream = IceCreamStand([\"coffee\", \"vanilla\"])\n",
        "\n",
        "print(\"icecream flavors: \", icecream.flavors)\n",
        "\n",
        "icecream.flavorsList()\n",
        "\n"
      ],
      "metadata": {
        "id": "koln4lkmsH_7",
        "colab": {
          "base_uri": "https://localhost:8080/"
        },
        "outputId": "79d41764-59ea-42ac-e043-fb0d2d1d3e0a"
      },
      "execution_count": null,
      "outputs": [
        {
          "output_type": "stream",
          "name": "stdout",
          "text": [
            "icecream flavors:  ['coffee', 'vanilla']\n",
            "The flavors are ['coffee', 'vanilla']\n"
          ]
        }
      ]
    },
    {
      "cell_type": "code",
      "source": [
        "#9-7\n",
        "class Admin(User):\n",
        "\n",
        "  def __init__(self, First_name, Last_name, Age, Height):\n",
        "    self.privileges = []\n",
        "\n",
        "  def add_post(self, post):\n",
        "    self.privileges.append(post)\n",
        "\n",
        "  def delete_post(self, post):\n",
        "    self.privileges.remove(post)\n",
        "\n",
        "  def show_privileges(self):\n",
        "    print(self.privileges)\n",
        "\n",
        "l = Admin(\"David\", \"Laveck\", 22, 6)\n",
        "l.add_post(\"David is not banned\")\n",
        "l.show_privileges()"
      ],
      "metadata": {
        "id": "It9ROe4i46vL",
        "colab": {
          "base_uri": "https://localhost:8080/"
        },
        "outputId": "4d4a0d3b-4bab-4f0f-9b11-247d1ad5947b"
      },
      "execution_count": 29,
      "outputs": [
        {
          "output_type": "stream",
          "name": "stdout",
          "text": [
            "['David is not banned']\n"
          ]
        }
      ]
    },
    {
      "cell_type": "code",
      "source": [],
      "metadata": {
        "id": "M9wcVF60yCmO"
      },
      "execution_count": null,
      "outputs": []
    },
    {
      "cell_type": "code",
      "execution_count": null,
      "metadata": {
        "colab": {
          "base_uri": "https://localhost:8080/"
        },
        "outputId": "36d9f882-c296-4ec6-efb3-6bb5c20ba3fb",
        "id": "Dm5eEaBkyEoL"
      },
      "outputs": [
        {
          "name": "stdout",
          "output_type": "stream",
          "text": [
            "First name:  David\n",
            "Last name:  LaVque\n",
            "Age:  21\n",
            "Height:  5'9\n",
            "First Name: David\n",
            "Last Name: LaVque\n",
            "Age: 21\n",
            "Height: 5'9\n",
            "Hello, David LaVque welcome to the here\n"
          ]
        }
      ],
      "source": [
        "#9-3\n",
        "class User:\n",
        "  def __init__ (self, First_name, Last_name, Age, Height ):\n",
        "    self.First_name = First_name\n",
        "    self.Last_name = Last_name\n",
        "    self.Age = Age\n",
        "    self.Height = Height\n",
        "  def describe_user (self):\n",
        "    print(f\"First Name: {self.First_name}\")\n",
        "    print(f\"Last Name: {self.Last_name}\")\n",
        "    print(f\"Age: {self.Age}\")\n",
        "    print(f\"Height: {self.Height}\")\n",
        "  def greet_user (self):\n",
        "    print(f\"Hello, {self.First_name} {self.Last_name} welcome to the here\")\n",
        "\n",
        "user = User('David', 'LaVque', 21, \"5'9\")\n",
        "\n",
        "print('First name: ', user.First_name)\n",
        "print('Last name: ', user.Last_name)\n",
        "print('Age: ', user.Age)\n",
        "print('Height: ', user.Height )\n",
        "\n",
        "user.describe_user()\n",
        "user.greet_user()"
      ]
    }
  ],
  "metadata": {
    "colab": {
      "provenance": [],
      "authorship_tag": "ABX9TyO2Na46fIJhy87kWlXoed7I",
      "include_colab_link": true
    },
    "kernelspec": {
      "display_name": "Python 3",
      "name": "python3"
    },
    "language_info": {
      "name": "python"
    }
  },
  "nbformat": 4,
  "nbformat_minor": 0
}