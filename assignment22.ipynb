{
  "nbformat": 4,
  "nbformat_minor": 0,
  "metadata": {
    "colab": {
      "provenance": [],
      "authorship_tag": "ABX9TyNMqzyLxA27TutdbqvOaJqH",
      "include_colab_link": true
    },
    "kernelspec": {
      "name": "python3",
      "display_name": "Python 3"
    },
    "language_info": {
      "name": "python"
    }
  },
  "cells": [
    {
      "cell_type": "markdown",
      "metadata": {
        "id": "view-in-github",
        "colab_type": "text"
      },
      "source": [
        "<a href=\"https://colab.research.google.com/github/dlave002/CSC221_dlave002/blob/main/assignment22.ipynb\" target=\"_parent\"><img src=\"https://colab.research.google.com/assets/colab-badge.svg\" alt=\"Open In Colab\"/></a>"
      ]
    },
    {
      "cell_type": "code",
      "execution_count": 54,
      "metadata": {
        "colab": {
          "base_uri": "https://localhost:8080/"
        },
        "id": "X7oGA235VyP3",
        "outputId": "ece3ac60-a63f-4be2-99cc-72be92968083"
      },
      "outputs": [
        {
          "output_type": "stream",
          "name": "stdout",
          "text": [
            "[(1, 0), (3, 1), (4, 1), (4, 2), (5, 2), (9, 1)]\n",
            "6\n",
            "{'Ned0': (9, 1), 'Ned1': (3, 1), 'Ned2': (5, 2), 'Ned3': (4, 2), 'Ned4': (4, 1), 'Ned5': (1, 0)}\n",
            "(9, 1)\n",
            "[1, 2, 3, 4, 5, 6, 7, 12, 87, 99]\n",
            "1\n",
            "12\n",
            "60\n"
          ]
        }
      ],
      "source": [
        "import math\n",
        "class Vector2D:\n",
        "    def __init__(self, x, y):\n",
        "        self.x = x\n",
        "        self.y = y\n",
        "        self._2d = []\n",
        "        self._2dmap = {}\n",
        "\n",
        "    def sum(self):\n",
        "        return self.x + self.y\n",
        "\n",
        "    def add_to_2d(self, value):\n",
        "        self._2d.append(value)\n",
        "\n",
        "    def EuclideanSort(self, x):\n",
        "      p = self._2d[x:]\n",
        "      def distances(point):\n",
        "        return math.sqrt(point[0]**2 + point[1]**2)\n",
        "      sorted_p = sorted(p, key=distances)\n",
        "      return sorted_p\n",
        "\n",
        "    def sort(self, x):\n",
        "        def helper(d):\n",
        "          swapped = True\n",
        "\n",
        "          while swapped:\n",
        "              swapped = False\n",
        "\n",
        "              for i in range(len(d) - 1):\n",
        "                  if d[i] > d[i+1]:\n",
        "                      swapped = True\n",
        "                      d[i], d[i+1] = d[i+1], d[i]\n",
        "          return d\n",
        "\n",
        "        if x == 0:\n",
        "              return helper(self._2d)\n",
        "\n",
        "        z = self._2d[0:x]\n",
        "        d = helper(z)\n",
        "\n",
        "\n",
        "        self._2d[0:x] = d\n",
        "        return self._2d\n",
        "\n",
        "\n",
        "    def getLength(self):\n",
        "      return len(self._2d)\n",
        "\n",
        "    def getDict(self,x):\n",
        "      keys = []\n",
        "      for i in range(len(self._2d)):\n",
        "        keys.append(f\"{x}{i}\")\n",
        "      self._2dmap = {k: v for k, v in zip(keys, self._2d)}\n",
        "      return self._2dmap\n",
        "\n",
        "\n",
        "\n",
        "v2 = Vector2D((1,1), (2,1))\n",
        "v2.add_to_2d((9, 1))\n",
        "v2.add_to_2d((3,1))\n",
        "v2.add_to_2d((5,2))\n",
        "v2.add_to_2d((4,2))\n",
        "v2.add_to_2d((4,1))\n",
        "v2.add_to_2d((1,0))\n",
        "\n",
        "print(v2.EuclideanSort(0))\n",
        "print(v2.getLength())\n",
        "print(v2.getDict(\"Ned\"))\n",
        "print(v2._2dmap[\"Ned0\"])\n",
        "\n",
        "vector = Vector2D(1,2)\n",
        "vector._2d = [1,12,2,3,4,5,6,7,87,99]\n",
        "vector.getDict(\"Ned\")\n",
        "print(vector.sort(0))\n",
        "print(vector._2dmap[\"Ned0\"])\n",
        "print(vector._2dmap[\"Ned1\"])\n",
        "print(vector._2dmap[\"Ned1\"] * 5)"
      ]
    }
  ]
}