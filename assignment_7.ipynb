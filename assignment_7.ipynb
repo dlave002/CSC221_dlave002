{
  "nbformat": 4,
  "nbformat_minor": 0,
  "metadata": {
    "colab": {
      "provenance": [],
      "authorship_tag": "ABX9TyM4XIdxf04sLMTYu2xa3bp0",
      "include_colab_link": true
    },
    "kernelspec": {
      "name": "python3",
      "display_name": "Python 3"
    },
    "language_info": {
      "name": "python"
    }
  },
  "cells": [
    {
      "cell_type": "markdown",
      "metadata": {
        "id": "view-in-github",
        "colab_type": "text"
      },
      "source": [
        "<a href=\"https://colab.research.google.com/github/dlave002/CSC221_dlave002/blob/main/assignment_7.ipynb\" target=\"_parent\"><img src=\"https://colab.research.google.com/assets/colab-badge.svg\" alt=\"Open In Colab\"/></a>"
      ]
    },
    {
      "cell_type": "code",
      "execution_count": null,
      "metadata": {
        "colab": {
          "base_uri": "https://localhost:8080/"
        },
        "id": "7De_V5GJKW5J",
        "outputId": "00c40180-6ad9-41d1-a536-560146e3631a"
      },
      "outputs": [
        {
          "output_type": "stream",
          "name": "stdout",
          "text": [
            "green\n",
            "5\n"
          ]
        }
      ],
      "source": [
        "alien_0 = {'color': 'green', 'points': 5}\n",
        "\n",
        "print(alien_0['color'])\n",
        "print(alien_0['points'])\n"
      ]
    },
    {
      "cell_type": "code",
      "source": [
        "new_points = alien_0['points']\n",
        "print(f'You just earned {new_points} points!')"
      ],
      "metadata": {
        "colab": {
          "base_uri": "https://localhost:8080/"
        },
        "id": "pec5diIoL4SF",
        "outputId": "6b43c048-4b1f-4f7f-ad01-5fab6bdd881b"
      },
      "execution_count": null,
      "outputs": [
        {
          "output_type": "stream",
          "name": "stdout",
          "text": [
            "You just earned 5 points!\n"
          ]
        }
      ]
    },
    {
      "cell_type": "code",
      "source": [
        "#print(alien_0)\n",
        "\n",
        "alien_0['x_position'] = 0\n",
        "alien_0['y_position'] = 25\n",
        "print(alien_0)"
      ],
      "metadata": {
        "colab": {
          "base_uri": "https://localhost:8080/"
        },
        "id": "wcwDkJVoM8Y2",
        "outputId": "d6e79a34-8bac-4ef1-b250-ac3c1f04e328"
      },
      "execution_count": null,
      "outputs": [
        {
          "output_type": "stream",
          "name": "stdout",
          "text": [
            "{'color': 'green', 'points': 5, 'x_position': 0, 'y_position': 25}\n"
          ]
        }
      ]
    },
    {
      "cell_type": "code",
      "source": [
        "alien_0 = {}\n",
        "\n",
        "alien_0['color'] = 'green'\n",
        "alien_0['points'] = 5\n",
        "\n",
        "print(alien_0)"
      ],
      "metadata": {
        "colab": {
          "base_uri": "https://localhost:8080/"
        },
        "id": "5sfVTNGQN-A0",
        "outputId": "6b7c3971-6c71-41e6-a8fc-69e8a5bd2aee"
      },
      "execution_count": null,
      "outputs": [
        {
          "output_type": "stream",
          "name": "stdout",
          "text": [
            "{'color': 'green', 'points': 5}\n"
          ]
        }
      ]
    },
    {
      "cell_type": "code",
      "source": [
        "alien_0 = {'color': 'green'}\n",
        "print(f\"The alien is {alien_0['color']}.\")\n",
        "alien_0['color'] = 'yellow'\n",
        "print(f\"The alien is now {alien_0['color']}.\")"
      ],
      "metadata": {
        "colab": {
          "base_uri": "https://localhost:8080/"
        },
        "id": "8aVX5nquOb-S",
        "outputId": "0dcf10a5-2c3c-4de3-9a61-6858e41de70f"
      },
      "execution_count": null,
      "outputs": [
        {
          "output_type": "stream",
          "name": "stdout",
          "text": [
            "The alien is green.\n",
            "The alien is now yellow.\n"
          ]
        }
      ]
    },
    {
      "cell_type": "code",
      "source": [
        "alien_0 = {'color': 'green', 'points': 5}\n",
        "print(alien_0)\n",
        "\n",
        "del alien_0['points']\n",
        "print(alien_0)"
      ],
      "metadata": {
        "colab": {
          "base_uri": "https://localhost:8080/"
        },
        "id": "fFQXyhRZTjDU",
        "outputId": "3d3df154-f8f9-44cc-b1cf-f746c0afa835"
      },
      "execution_count": null,
      "outputs": [
        {
          "output_type": "stream",
          "name": "stdout",
          "text": [
            "{'color': 'green'}\n"
          ]
        }
      ]
    },
    {
      "cell_type": "code",
      "source": [
        "favorite = {\n",
        "    'jen': 'python',\n",
        "    'sarah': 'c',\n",
        "    'edward': 'rust',\n",
        "    'phil': 'python'\n",
        "\n",
        "}\n",
        "print(favorite)"
      ],
      "metadata": {
        "colab": {
          "base_uri": "https://localhost:8080/"
        },
        "id": "85juSgjuUQQf",
        "outputId": "ce52353d-1230-45f6-a022-ec219180806f"
      },
      "execution_count": null,
      "outputs": [
        {
          "output_type": "stream",
          "name": "stdout",
          "text": [
            "{'jen': 'python', 'sarah': 'c', 'edward': 'rust', 'phil': 'python'}\n"
          ]
        }
      ]
    },
    {
      "cell_type": "code",
      "source": [
        "language = favorite['sarah'].title() #im confused why title is here because it works the same with or without it\n",
        "print(f\"sarah's favorite language is {language}.\")"
      ],
      "metadata": {
        "colab": {
          "base_uri": "https://localhost:8080/"
        },
        "id": "gLfk-eEQVUXb",
        "outputId": "d7503ca9-528c-469d-a9b5-1cbb91dc9393"
      },
      "execution_count": null,
      "outputs": [
        {
          "output_type": "stream",
          "name": "stdout",
          "text": [
            "sarah's favorite language is C.\n"
          ]
        }
      ]
    },
    {
      "cell_type": "code",
      "source": [
        "#6-1\n",
        "person_0 ={\n",
        "    'first_name': 'eirik',\n",
        "    'last_name': 'lavien',\n",
        "    'age': 23,\n",
        "    'city': 'plattsburgh'\n",
        "}\n",
        "print(person_0)"
      ],
      "metadata": {
        "colab": {
          "base_uri": "https://localhost:8080/"
        },
        "id": "MWONPjtuWF3D",
        "outputId": "3b453529-0031-420e-87ec-57ec52b9c20b"
      },
      "execution_count": null,
      "outputs": [
        {
          "output_type": "stream",
          "name": "stdout",
          "text": [
            "{'first_name': 'eirik', 'last_name': 'lavien', 'age': 23, 'city': 'plattsburgh'}\n"
          ]
        }
      ]
    },
    {
      "cell_type": "code",
      "source": [
        "#6-2\n",
        "favorite_numbers = {\n",
        "    'keith': 5,\n",
        "    'dave': 10,\n",
        "    'pat': 9,\n",
        "    'john': 11,\n",
        "    'mashal': 22\n",
        "\n",
        "}\n",
        "print(favorite_numbers)\n",
        "#for numbers in favorite_numbers:\n",
        "  #print(numbers) just messing with it"
      ],
      "metadata": {
        "colab": {
          "base_uri": "https://localhost:8080/"
        },
        "id": "QXX08b3pbN__",
        "outputId": "8a2ac249-b99c-46f0-c966-c26576d85d34"
      },
      "execution_count": null,
      "outputs": [
        {
          "output_type": "stream",
          "name": "stdout",
          "text": [
            "{'keith': 5, 'dave': 10, 'pat': 9, 'john': 11, 'mashal': 22}\n"
          ]
        }
      ]
    },
    {
      "cell_type": "code",
      "source": [
        "#6-3 how can you print the dict vertically I tried using a for loop and it would only print out the key names(I looked ahead and modifyd this one)(i still couldn'tget it to work right)\n",
        "defintion_list = {\n",
        "    'del:': 'delets seclected item',\n",
        "    'print:': 'prints selected variable contents or results',\n",
        "    'else:': 'if the statement above does not work then it moves on to the next through else',\n",
        "    'if:': 'asks python to selve something sometimes using things like <,>,=,==',\n",
        "    'elif:': 'else if'\n",
        "\n",
        "}\n",
        "for python_defintion in defintion_list.keys():\n",
        "  print(python_defintion)\n",
        "for python_name in defintion_list.values():\n",
        "  print(python_name)\n",
        ""
      ],
      "metadata": {
        "id": "y9wSrq93cT9q",
        "colab": {
          "base_uri": "https://localhost:8080/"
        },
        "outputId": "0e79dd3b-b98b-4dd6-add4-a5407d378703"
      },
      "execution_count": 14,
      "outputs": [
        {
          "output_type": "stream",
          "name": "stdout",
          "text": [
            "del:\n",
            "print:\n",
            "else:\n",
            "if:\n",
            "elif:\n",
            "delets seclected item\n",
            "prints selected variable contents or results\n",
            "if the statement above does not work then it moves on to the next through else\n",
            "asks python to selve something sometimes using things like <,>,=,==\n",
            "else if\n"
          ]
        }
      ]
    },
    {
      "cell_type": "code",
      "source": [
        "#6-4\n",
        "#As you can see above I tried to loop through it but failed while trying to do 6-3 and looking ahead"
      ],
      "metadata": {
        "id": "X9di_z_UIf59"
      },
      "execution_count": null,
      "outputs": []
    },
    {
      "cell_type": "code",
      "source": [
        "#6-11\n",
        "cities = {\n",
        "    'NYC': {\n",
        "        'country:': 'United States',\n",
        "        'population:': 8000000,\n",
        "        'Fun fact:': 'Its the largest city in New York'\n",
        "    },\n",
        "    'Boston': {\n",
        "        'country:': 'United States',\n",
        "        'population:': 600000,\n",
        "        'Fun fact:': 'Used to be our capital'\n",
        "    },\n",
        "    'Nashville': {\n",
        "        'country:': 'Untied States',\n",
        "        'population:': 700000,\n",
        "        'Fun fact:': 'its a city'\n",
        "        }\n",
        "  }\n",
        "print(cities)"
      ],
      "metadata": {
        "colab": {
          "base_uri": "https://localhost:8080/"
        },
        "id": "pOYen69SJe96",
        "outputId": "a01ae71e-8e52-494d-be30-d1d0a62f119e"
      },
      "execution_count": 23,
      "outputs": [
        {
          "output_type": "stream",
          "name": "stdout",
          "text": [
            "{'NYC': {'country:': 'United States', 'population:': 8000000, 'Fun fact:': 'Its the largest city in New York'}, 'Boston': {'country:': 'United States', 'population:': 600000, 'Fun fact:': 'Used to be our capital'}, 'Nashville': {'country:': 'Untied States', 'population:': 700000, 'Fun fact:': 'its a city'}}\n"
          ]
        }
      ]
    },
    {
      "cell_type": "code",
      "execution_count": 27,
      "metadata": {
        "colab": {
          "base_uri": "https://localhost:8080/"
        },
        "outputId": "c6d15bd7-2172-4321-ae8b-79822fe80c41",
        "id": "lGZnrF2wN-jO"
      },
      "outputs": [
        {
          "output_type": "stream",
          "name": "stdout",
          "text": [
            "green\n",
            "5\n",
            "blue\n",
            "100\n"
          ]
        }
      ],
      "source": [
        "#6-12\n",
        "alien_0 = {'color': 'green', 'points': 5}\n",
        "player_0 = {'color': 'blue', 'health': 100}\n",
        "\n",
        "print(alien_0['color'])\n",
        "print(alien_0['points'])\n",
        "print(player_0['color'])\n",
        "print(player_0['health'])"
      ]
    }
  ]
}