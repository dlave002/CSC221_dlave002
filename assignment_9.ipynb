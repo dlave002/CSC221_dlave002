{
  "nbformat": 4,
  "nbformat_minor": 0,
  "metadata": {
    "colab": {
      "provenance": [],
      "authorship_tag": "ABX9TyMI6RvFtbBdlqhjCUAKQhu+",
      "include_colab_link": true
    },
    "kernelspec": {
      "name": "python3",
      "display_name": "Python 3"
    },
    "language_info": {
      "name": "python"
    }
  },
  "cells": [
    {
      "cell_type": "markdown",
      "metadata": {
        "id": "view-in-github",
        "colab_type": "text"
      },
      "source": [
        "<a href=\"https://colab.research.google.com/github/dlave002/CSC221_dlave002/blob/main/assignment_9.ipynb\" target=\"_parent\"><img src=\"https://colab.research.google.com/assets/colab-badge.svg\" alt=\"Open In Colab\"/></a>"
      ]
    },
    {
      "cell_type": "code",
      "execution_count": null,
      "metadata": {
        "colab": {
          "base_uri": "https://localhost:8080/"
        },
        "id": "liU4YWZSV0KN",
        "outputId": "f72557bf-77bb-4078-9971-68124b6cbf8a"
      },
      "outputs": [
        {
          "output_type": "stream",
          "name": "stdout",
          "text": [
            "hello!\n"
          ]
        }
      ],
      "source": [
        "def greet_user():\n",
        " # \"\"\"Display a simple greeting.\"\"\" <---- not getting the point of this\n",
        "  print(\"hello!\")\n",
        "greet_user()"
      ]
    },
    {
      "cell_type": "code",
      "source": [
        "def greet_user(username):\n",
        "  print(f\"Hello, {username.title()}!\")\n",
        "greet_user('jesse')"
      ],
      "metadata": {
        "colab": {
          "base_uri": "https://localhost:8080/"
        },
        "id": "7hxExkvgqQNK",
        "outputId": "8c3b69f2-4003-469e-a25f-a18aa4c9a2be"
      },
      "execution_count": null,
      "outputs": [
        {
          "output_type": "stream",
          "name": "stdout",
          "text": [
            "Hello, Jesse!\n"
          ]
        }
      ]
    },
    {
      "cell_type": "code",
      "source": [
        "#8-2\n",
        "def favorite_book(book):\n",
        "  print(f\"One of my favorite books is {book.title()}.\")\n",
        "favorite_book('alice in wonderland')"
      ],
      "metadata": {
        "colab": {
          "base_uri": "https://localhost:8080/"
        },
        "id": "tVyKPUBCtLDM",
        "outputId": "4e712b8f-323c-4f6c-9e90-483891d918cc"
      },
      "execution_count": null,
      "outputs": [
        {
          "output_type": "stream",
          "name": "stdout",
          "text": [
            "One of my favorite books is Alice In Wonderland.\n"
          ]
        }
      ]
    },
    {
      "cell_type": "code",
      "source": [
        "def describe_pet(animal_type, pet_name):\n",
        "  print(f\"\\nI have a {animal_type}\")\n",
        "  print(f\"My {animal_type}'s name is {pet_name.title()}.\")\n",
        "describe_pet('hamster', 'harry')\n",
        "describe_pet('dog', 'willie')"
      ],
      "metadata": {
        "colab": {
          "base_uri": "https://localhost:8080/"
        },
        "id": "DwCut_9IuRHo",
        "outputId": "6177ee52-0db9-4c80-d594-193c7aab2d74"
      },
      "execution_count": null,
      "outputs": [
        {
          "output_type": "stream",
          "name": "stdout",
          "text": [
            "\n",
            "I have a hamster\n",
            "My hamster's name is Harry.\n",
            "\n",
            "I have a dog\n",
            "My dog's name is Willie.\n"
          ]
        }
      ]
    },
    {
      "cell_type": "code",
      "source": [
        "def describe_pet(animal_type, pet_name):\n",
        "  print(f\"\\nI have a {animal_type}\")\n",
        "  print(f\"My {animal_type}'s name is {pet_name.title()}.\")\n",
        "describe_pet(animal_type = 'hamster', pet_name = 'harry')"
      ],
      "metadata": {
        "colab": {
          "base_uri": "https://localhost:8080/"
        },
        "id": "xfJXduskv6_T",
        "outputId": "0b359b1e-f900-4168-8bae-9e636210614a"
      },
      "execution_count": null,
      "outputs": [
        {
          "output_type": "stream",
          "name": "stdout",
          "text": [
            "\n",
            "I have a hamster\n",
            "My hamster's name is Harry.\n"
          ]
        }
      ]
    },
    {
      "cell_type": "code",
      "source": [
        "#8-3\n",
        "def make_shirt(size):\n",
        "  print(f\"\\nYou,re size is {size}, The print say's 'Just do it!'\")\n",
        "make_shirt('large')"
      ],
      "metadata": {
        "colab": {
          "base_uri": "https://localhost:8080/"
        },
        "id": "mt67jODSxIJE",
        "outputId": "3236be79-ac5c-4fc9-8a93-b5bc043d6f47"
      },
      "execution_count": null,
      "outputs": [
        {
          "output_type": "stream",
          "name": "stdout",
          "text": [
            "\n",
            "You,re size is large, The print say's 'Just do it!'\n"
          ]
        }
      ]
    },
    {
      "cell_type": "code",
      "source": [
        "#8-4 how can I make the shirt size large by standard but then ask for other sizes\n",
        "def make_shirt(size='large'):\n",
        "  print(f\"\\nYou're size is {size}, The print say 'I love Python!'\")\n",
        "  print(f\"\\nYou're size is {size}, The print say 'I love python!'\")\n",
        "#print(size)\n",
        "make_shirt()"
      ],
      "metadata": {
        "colab": {
          "base_uri": "https://localhost:8080/"
        },
        "id": "ewWjooTc0bHF",
        "outputId": "88e8f5ba-ab45-4124-adcc-a4b33a4b4451"
      },
      "execution_count": null,
      "outputs": [
        {
          "output_type": "stream",
          "name": "stdout",
          "text": [
            "\n",
            "You,re size is large, The print say's 'I love Python!'\n",
            "\n",
            "You,re size is large, The print say's 'I love python!'\n"
          ]
        }
      ]
    },
    {
      "cell_type": "code",
      "source": [
        "def get_formatted_name(first_name, last_name):\n",
        "  full_name = f\"{first_name} {last_name}\"\n",
        "  return full_name.title()\n",
        "musician = get_formatted_name('jimi', 'hendrix')\n",
        "print(musician)"
      ],
      "metadata": {
        "colab": {
          "base_uri": "https://localhost:8080/"
        },
        "id": "BtMX4LDc6HBY",
        "outputId": "d9bf0bfa-2d0d-498a-a2f7-0499f8cb12db"
      },
      "execution_count": null,
      "outputs": [
        {
          "output_type": "stream",
          "name": "stdout",
          "text": [
            "Jimi Hendrix\n"
          ]
        }
      ]
    },
    {
      "cell_type": "code",
      "source": [
        "def get_formatted_name (first_name, last_name):\n",
        "  full_name = f\"{first_name} {last_name}\"\n",
        "  return full_name.title()\n",
        "\n",
        "while True:\n",
        "  print(\"\\nPlease tell me your name: \")\n",
        "  print(\"(enter 'q' at any time to quit)\")\n",
        "  f_name = input(\"first name: \")\n",
        "  if f_name == 'q':\n",
        "    break\n",
        "  l_name = input(\"last name: \")\n",
        "  if l_name == 'q':\n",
        "    break\n",
        "  formatted_name = get_formatted_name(f_name, l_name)\n",
        "  print(f\"\\nHello, {formatted_name}!\")"
      ],
      "metadata": {
        "colab": {
          "base_uri": "https://localhost:8080/"
        },
        "id": "eUZD1wadITCD",
        "outputId": "d657a93b-0f6c-4d71-bacb-ee4d2208649d"
      },
      "execution_count": null,
      "outputs": [
        {
          "name": "stdout",
          "output_type": "stream",
          "text": [
            "\n",
            "Please tell me your name: \n",
            "(enter 'q' at any time to quit)\n",
            "first name: David\n",
            "last name: LaVeck\n",
            "\n",
            "Hello, David Laveck!\n",
            "\n",
            "Please tell me your name: \n",
            "(enter 'q' at any time to quit)\n",
            "first name: q\n"
          ]
        }
      ]
    },
    {
      "cell_type": "code",
      "source": [
        "#8-14\n",
        "cars_dic = {\n",
        "    \"chevy\": \"cobalt\",\n",
        "    \"ford\": \"focus\"\n",
        "    }\n",
        "def add_car(make, model):\n",
        "  cars_dic.update({\"Product\":make,\"Model\": model,})\n",
        "\n",
        "add_car(\"Subaru\", \"Legacy\");\n",
        "print(cars_dic)"
      ],
      "metadata": {
        "id": "-RA1CAs4C2cl",
        "colab": {
          "base_uri": "https://localhost:8080/"
        },
        "outputId": "c70d8259-e299-441d-9f17-e90db8cb2b2c"
      },
      "execution_count": 9,
      "outputs": [
        {
          "output_type": "stream",
          "name": "stdout",
          "text": [
            "{'chevy': 'cobalt', 'ford': 'focus', 'Product': 'Subaru', 'Model': 'Legacy'}\n"
          ]
        }
      ]
    },
    {
      "cell_type": "code",
      "source": [
        "#2\n",
        "def number(a, b):\n",
        "  if(b <= 0):\n",
        "    b = 3.14\n",
        "  sum = a + b\n",
        "  resarr = [];\n",
        "  if (a < b):\n",
        "    resarr.append(a)\n",
        "    resarr.append(b)\n",
        "  else:\n",
        "    resarr.append(b)\n",
        "    resarr.append(a)\n",
        "  return (sum, resarr)\n",
        "\n",
        "sum,resarr = number(1, 0)\n",
        "print(sum)\n",
        "print(resarr)\n"
      ],
      "metadata": {
        "id": "mXD3HulBiLo8",
        "colab": {
          "base_uri": "https://localhost:8080/"
        },
        "outputId": "52388d3d-3d1f-4e18-9c66-e6adbce6decd"
      },
      "execution_count": 14,
      "outputs": [
        {
          "output_type": "stream",
          "name": "stdout",
          "text": [
            "4.140000000000001\n",
            "[1, 3.14]\n"
          ]
        }
      ]
    },
    {
      "cell_type": "code",
      "source": [
        "#3 im already convinced\n",
        "def number(a, b):\n",
        "  if(b <= 0):\n",
        "    b = 3.14\n",
        "  sum = a + b\n",
        "  resarr = [];\n",
        "  if (a < b):\n",
        "    resarr.append(a)\n",
        "    resarr.append(b)\n",
        "  else:\n",
        "    resarr.append(b)\n",
        "    resarr.append(a)\n",
        "  return (sum, resarr)\n",
        "\n",
        "sum,resarr = number(1, -2)\n",
        "print(sum)\n",
        "print(resarr)\n"
      ],
      "metadata": {
        "colab": {
          "base_uri": "https://localhost:8080/"
        },
        "outputId": "61b48a1a-c649-4abb-d1af-4551ea1ac637",
        "id": "kcdf59ZaEtBY"
      },
      "execution_count": 15,
      "outputs": [
        {
          "output_type": "stream",
          "name": "stdout",
          "text": [
            "4.140000000000001\n",
            "[1, 3.14]\n"
          ]
        }
      ]
    },
    {
      "cell_type": "code",
      "source": [
        "#4\n",
        "def number(a, b, verbose):\n",
        "  if(b <= 0):\n",
        "    b = 3.14\n",
        "  sum = a + b\n",
        "  resarr = [];\n",
        "  if (a < b):\n",
        "    resarr.append(a)\n",
        "    resarr.append(b)\n",
        "  else:\n",
        "    resarr.append(b)\n",
        "    resarr.append(a)\n",
        "  if (verbose):\n",
        "    return (sum, resarr, \"verbose is true\")\n",
        "  else:\n",
        "    return (\"Sum is not Available because of Verbose is false\", \"array is not Available because of Verbose is false\", \"Verbose is false \")\n",
        "\n",
        "sum,resarr, verbose = number(1, -2, True)\n",
        "print(sum)\n",
        "print(resarr)\n",
        "print(verbose)\n"
      ],
      "metadata": {
        "colab": {
          "base_uri": "https://localhost:8080/"
        },
        "outputId": "8e23e23b-5937-4a48-849f-0b003b2dd37b",
        "id": "7Xn-He-XFPX2"
      },
      "execution_count": 22,
      "outputs": [
        {
          "output_type": "stream",
          "name": "stdout",
          "text": [
            "4.140000000000001\n",
            "[1, 3.14]\n",
            "verbose is true\n"
          ]
        }
      ]
    }
  ]
}