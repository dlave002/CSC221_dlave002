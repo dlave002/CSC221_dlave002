{
  "nbformat": 4,
  "nbformat_minor": 0,
  "metadata": {
    "colab": {
      "provenance": [],
      "authorship_tag": "ABX9TyPg8tYFbZu0OPmdoGdYlJTg",
      "include_colab_link": true
    },
    "kernelspec": {
      "name": "python3",
      "display_name": "Python 3"
    },
    "language_info": {
      "name": "python"
    }
  },
  "cells": [
    {
      "cell_type": "markdown",
      "metadata": {
        "id": "view-in-github",
        "colab_type": "text"
      },
      "source": [
        "<a href=\"https://colab.research.google.com/github/dlave002/CSC221_dlave002/blob/main/Assignment5.ipynb\" target=\"_parent\"><img src=\"https://colab.research.google.com/assets/colab-badge.svg\" alt=\"Open In Colab\"/></a>"
      ]
    },
    {
      "cell_type": "code",
      "execution_count": null,
      "metadata": {
        "colab": {
          "base_uri": "https://localhost:8080/"
        },
        "id": "JiVTy4dCxNQw",
        "outputId": "8d674997-e65f-4f3d-b841-55ce9af827d2"
      },
      "outputs": [
        {
          "output_type": "stream",
          "name": "stdout",
          "text": [
            "alice\n",
            "david\n",
            "carolina\n"
          ]
        }
      ],
      "source": [
        "magic = ['alice', 'david', 'carolina']\n",
        "for magics in magic:\n",
        "  print(magics)"
      ]
    },
    {
      "cell_type": "code",
      "source": [
        "#I skipped a lot of this becsuase it was just looping with everything from last chapter or past few"
      ],
      "metadata": {
        "id": "FDwqT-Vt2oSQ"
      },
      "execution_count": null,
      "outputs": []
    },
    {
      "cell_type": "code",
      "source": [
        "for value in range(1, 5):\n",
        "  print(value)"
      ],
      "metadata": {
        "colab": {
          "base_uri": "https://localhost:8080/"
        },
        "id": "a24w7Ajr4A9x",
        "outputId": "e03c95df-81ff-4404-f862-a1fb129f8b5a"
      },
      "execution_count": null,
      "outputs": [
        {
          "output_type": "stream",
          "name": "stdout",
          "text": [
            "1\n",
            "2\n",
            "3\n",
            "4\n"
          ]
        }
      ]
    },
    {
      "cell_type": "code",
      "source": [
        "numbers = list(range(1, 6))\n",
        "print(numbers)"
      ],
      "metadata": {
        "colab": {
          "base_uri": "https://localhost:8080/"
        },
        "id": "XRJofDw54PAu",
        "outputId": "763d12e9-91e8-43d6-d35e-859859528581"
      },
      "execution_count": null,
      "outputs": [
        {
          "output_type": "stream",
          "name": "stdout",
          "text": [
            "[1, 2, 3, 4, 5]\n"
          ]
        }
      ]
    },
    {
      "cell_type": "code",
      "source": [
        "squares = []\n",
        "for value in range (1, 11):\n",
        "  square = value ** 2\n",
        "  squares.append(squares)\n",
        "print(squares)"
      ],
      "metadata": {
        "colab": {
          "base_uri": "https://localhost:8080/"
        },
        "id": "BMO_seGM4vzu",
        "outputId": "4803a80c-a9b6-4758-ee8c-941faeca965c"
      },
      "execution_count": null,
      "outputs": [
        {
          "output_type": "stream",
          "name": "stdout",
          "text": [
            "[[...], [...], [...], [...], [...], [...], [...], [...], [...], [...]]\n"
          ]
        }
      ]
    },
    {
      "cell_type": "code",
      "source": [
        "didgets = [1,2,3,4,5,6,7,8,9]\n",
        "min(didgets)\n",
        "max(didgets)\n",
        "sum(didgets)"
      ],
      "metadata": {
        "colab": {
          "base_uri": "https://localhost:8080/"
        },
        "id": "CDivzHvAJrR3",
        "outputId": "28317a27-f866-47a7-c1f1-e0df46884c42"
      },
      "execution_count": 6,
      "outputs": [
        {
          "output_type": "execute_result",
          "data": {
            "text/plain": [
              "45"
            ]
          },
          "metadata": {},
          "execution_count": 6
        }
      ]
    },
    {
      "cell_type": "code",
      "source": [
        "squares = [value**2 for value in range(1, 11)]\n",
        "print(squares)"
      ],
      "metadata": {
        "colab": {
          "base_uri": "https://localhost:8080/"
        },
        "id": "eAmWiD_gM4vo",
        "outputId": "c5458ee4-3e5f-478a-8fd9-d85cd87668c5"
      },
      "execution_count": 7,
      "outputs": [
        {
          "output_type": "stream",
          "name": "stdout",
          "text": [
            "[1, 4, 9, 16, 25, 36, 49, 64, 81, 100]\n"
          ]
        }
      ]
    },
    {
      "cell_type": "code",
      "source": [
        "#4-3\n",
        "Num = list(range(1,21))\n",
        "print(Num)"
      ],
      "metadata": {
        "colab": {
          "base_uri": "https://localhost:8080/"
        },
        "id": "Aw2Obf86bTl_",
        "outputId": "03a76827-0ccd-412a-91f1-f197985e03a9"
      },
      "execution_count": 8,
      "outputs": [
        {
          "output_type": "stream",
          "name": "stdout",
          "text": [
            "[1, 2, 3, 4, 5, 6, 7, 8, 9, 10, 11, 12, 13, 14, 15, 16, 17, 18, 19, 20]\n"
          ]
        }
      ]
    },
    {
      "cell_type": "code",
      "source": [
        "#4-4\n",
        "#my computer hated this one\n",
        "Num = list(range(1, 100000001))\n",
        "print(Num)"
      ],
      "metadata": {
        "colab": {
          "base_uri": "https://localhost:8080/"
        },
        "id": "ZQoz3gQ0b82q",
        "outputId": "c88f24df-68b6-4a6c-bebf-44ccfabf31ad"
      },
      "execution_count": 10,
      "outputs": [
        {
          "output_type": "stream",
          "name": "stderr",
          "text": [
            "IOPub data rate exceeded.\n",
            "The notebook server will temporarily stop sending output\n",
            "to the client in order to avoid crashing it.\n",
            "To change this limit, set the config variable\n",
            "`--NotebookApp.iopub_data_rate_limit`.\n",
            "\n",
            "Current values:\n",
            "NotebookApp.iopub_data_rate_limit=1000000.0 (bytes/sec)\n",
            "NotebookApp.rate_limit_window=3.0 (secs)\n",
            "\n"
          ]
        }
      ]
    },
    {
      "cell_type": "code",
      "source": [
        "#4-5\n",
        "#so slow :]\n",
        "num = list(range(1, 100000001))\n",
        "min(num)\n",
        "max(num)\n",
        "sum(num)"
      ],
      "metadata": {
        "colab": {
          "base_uri": "https://localhost:8080/"
        },
        "id": "eG5HpE9AcX2f",
        "outputId": "4d60e8b1-c32d-4d01-cb72-47a3e0b46103"
      },
      "execution_count": 14,
      "outputs": [
        {
          "output_type": "execute_result",
          "data": {
            "text/plain": [
              "5000000050000000"
            ]
          },
          "metadata": {},
          "execution_count": 14
        }
      ]
    },
    {
      "cell_type": "code",
      "source": [
        "#4-6\n",
        "threes = [value**3 for value in range(1, 12)]\n",
        "print(threes)"
      ],
      "metadata": {
        "colab": {
          "base_uri": "https://localhost:8080/"
        },
        "id": "rpAosew_dJ1i",
        "outputId": "5733d651-229f-4443-9618-c52db0737d6f"
      },
      "execution_count": 16,
      "outputs": [
        {
          "output_type": "stream",
          "name": "stdout",
          "text": [
            "[1, 8, 27, 64, 125, 216, 343, 512, 729, 1000, 1331]\n"
          ]
        }
      ]
    },
    {
      "cell_type": "code",
      "source": [
        "players = ['charles', 'martin', 'michael', 'florence', 'eli']\n",
        "print(players[0:3])"
      ],
      "metadata": {
        "colab": {
          "base_uri": "https://localhost:8080/"
        },
        "id": "jL7OYj3td1dJ",
        "outputId": "b7e3ce3b-850a-45c1-81cc-e7bd1c70bc73"
      },
      "execution_count": 17,
      "outputs": [
        {
          "output_type": "stream",
          "name": "stdout",
          "text": [
            "['charles', 'martin', 'michael']\n"
          ]
        }
      ]
    },
    {
      "cell_type": "code",
      "source": [
        "players = ['charles', 'martin', 'michael', 'florence', 'eli']\n",
        "print('here are the first three players on my team')\n",
        "for player in players[:3]:\n",
        "  print(player.title())"
      ],
      "metadata": {
        "colab": {
          "base_uri": "https://localhost:8080/"
        },
        "id": "7hxVQyqIfSJV",
        "outputId": "4c2537ca-f05b-4b58-fb02-36e0d6379285"
      },
      "execution_count": 20,
      "outputs": [
        {
          "output_type": "stream",
          "name": "stdout",
          "text": [
            "here are the first three players on my team\n",
            "Charles\n",
            "Martin\n",
            "Michael\n"
          ]
        }
      ]
    },
    {
      "cell_type": "code",
      "source": [
        "#4-10, 4-11 and 4-12 felt repetive of other chapters"
      ],
      "metadata": {
        "id": "6okzAEiDf-ZO"
      },
      "execution_count": null,
      "outputs": []
    },
    {
      "cell_type": "code",
      "source": [
        " dimin = (200, 50)\n",
        " print(dimin[0])\n",
        " print(dimin[1])"
      ],
      "metadata": {
        "colab": {
          "base_uri": "https://localhost:8080/"
        },
        "id": "WiVcqlEPg2dn",
        "outputId": "a4e2635a-a6f3-4cdb-c4e6-4d46a8a7259d"
      },
      "execution_count": 22,
      "outputs": [
        {
          "output_type": "stream",
          "name": "stdout",
          "text": [
            "200\n",
            "50\n"
          ]
        }
      ]
    },
    {
      "cell_type": "code",
      "source": [
        "#not sure why I got these results?\n",
        "dimins = (200, 50)\n",
        "print('oringinal dimins:')\n",
        "for dimin in dimins:\n",
        "  print(dimin)\n",
        "\n",
        "  dimins = (400, 100)\n",
        "  print('\\nModified dimins:')\n",
        "  for dimin in dimins:\n",
        "    print(dimin)"
      ],
      "metadata": {
        "colab": {
          "base_uri": "https://localhost:8080/"
        },
        "id": "DzgKStaLiO7b",
        "outputId": "b75af82f-bacb-463b-cfbe-935c6fb7e7f7"
      },
      "execution_count": 24,
      "outputs": [
        {
          "output_type": "stream",
          "name": "stdout",
          "text": [
            "oringinal dimins:\n",
            "200\n",
            "\n",
            "Modified dimins:\n",
            "400\n",
            "100\n",
            "50\n",
            "\n",
            "Modified dimins:\n",
            "400\n",
            "100\n"
          ]
        }
      ]
    },
    {
      "cell_type": "code",
      "source": [
        "#4-13\n",
        "food = ('pizza', 'mac', 'steak', 'salad', 'chicken')\n",
        "for foods in food:\n",
        "  print(foods)\n",
        "  food = ('pizza', 'mac')\n",
        "  print('\\modified food')\n",
        "  for foods in food:\n",
        "    print(foods)\n"
      ],
      "metadata": {
        "colab": {
          "base_uri": "https://localhost:8080/"
        },
        "id": "dpjCl1dSjr1q",
        "outputId": "cff0a764-3df8-4ca5-faa9-e28713812441"
      },
      "execution_count": 27,
      "outputs": [
        {
          "output_type": "stream",
          "name": "stdout",
          "text": [
            "pizza\n",
            "\\modified food\n",
            "pizza\n",
            "mac\n",
            "mac\n",
            "\\modified food\n",
            "pizza\n",
            "mac\n",
            "steak\n",
            "\\modified food\n",
            "pizza\n",
            "mac\n",
            "salad\n",
            "\\modified food\n",
            "pizza\n",
            "mac\n",
            "chicken\n",
            "\\modified food\n",
            "pizza\n",
            "mac\n"
          ]
        }
      ]
    },
    {
      "cell_type": "code",
      "source": [
        "#4-14 felt like a time waster\n"
      ],
      "metadata": {
        "id": "lIOMRqKBlNZk"
      },
      "execution_count": null,
      "outputs": []
    },
    {
      "cell_type": "code",
      "source": [
        "def factorial(n):\n",
        "  #im not sure how o do this one\n",
        "  #I want to try to make it to your office hours"
      ],
      "metadata": {
        "id": "kgjhFP45l8Qk"
      },
      "execution_count": null,
      "outputs": []
    }
  ]
}