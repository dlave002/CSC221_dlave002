{
  "nbformat": 4,
  "nbformat_minor": 0,
  "metadata": {
    "colab": {
      "provenance": [],
      "authorship_tag": "ABX9TyN85Q6sVZssDkP4jc6w/plF",
      "include_colab_link": true
    },
    "kernelspec": {
      "name": "python3",
      "display_name": "Python 3"
    },
    "language_info": {
      "name": "python"
    }
  },
  "cells": [
    {
      "cell_type": "markdown",
      "metadata": {
        "id": "view-in-github",
        "colab_type": "text"
      },
      "source": [
        "<a href=\"https://colab.research.google.com/github/dlave002/CSC221_dlave002/blob/main/assignment16.ipynb\" target=\"_parent\"><img src=\"https://colab.research.google.com/assets/colab-badge.svg\" alt=\"Open In Colab\"/></a>"
      ]
    },
    {
      "cell_type": "code",
      "execution_count": null,
      "metadata": {
        "id": "fmBgc_7Rq25L"
      },
      "outputs": [],
      "source": [
        "#1.1\n",
        "#This section showed how python interpret using prompt and print\n"
      ]
    },
    {
      "cell_type": "code",
      "source": [
        "#1.2\n",
        "#This section showed how to create reusable python program using UTF-8 encoded text file and unix system"
      ],
      "metadata": {
        "id": "ZcLjpAu1rNPe"
      },
      "execution_count": null,
      "outputs": []
    },
    {
      "cell_type": "code",
      "source": [
        "#1.3\n",
        "#In this section it talks about integers, floats and strings as well as talking about varibales in realtionto to there values assigned"
      ],
      "metadata": {
        "id": "CtcINsxWtFIw"
      },
      "execution_count": null,
      "outputs": []
    }
  ]
}