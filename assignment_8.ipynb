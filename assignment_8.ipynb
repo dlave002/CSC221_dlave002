{
  "nbformat": 4,
  "nbformat_minor": 0,
  "metadata": {
    "colab": {
      "provenance": [],
      "authorship_tag": "ABX9TyOVtVEQCMhcNRvVXtwlYvpY",
      "include_colab_link": true
    },
    "kernelspec": {
      "name": "python3",
      "display_name": "Python 3"
    },
    "language_info": {
      "name": "python"
    }
  },
  "cells": [
    {
      "cell_type": "markdown",
      "metadata": {
        "id": "view-in-github",
        "colab_type": "text"
      },
      "source": [
        "<a href=\"https://colab.research.google.com/github/dlave002/CSC221_dlave002/blob/main/assignment_8.ipynb\" target=\"_parent\"><img src=\"https://colab.research.google.com/assets/colab-badge.svg\" alt=\"Open In Colab\"/></a>"
      ]
    },
    {
      "cell_type": "code",
      "source": [
        "message = input('tell me someething, and  i will repeat it back to you: ')\n",
        "print(message)"
      ],
      "metadata": {
        "colab": {
          "base_uri": "https://localhost:8080/"
        },
        "id": "ZRDsJBAdaT7H",
        "outputId": "a477a1ee-ae94-4820-931a-14cf1c88f1ad"
      },
      "execution_count": null,
      "outputs": [
        {
          "output_type": "stream",
          "name": "stdout",
          "text": [
            "tell me someething, and  i will repeat it back to you: yooo\n",
            "yooo\n"
          ]
        }
      ]
    },
    {
      "cell_type": "code",
      "execution_count": null,
      "metadata": {
        "colab": {
          "base_uri": "https://localhost:8080/"
        },
        "id": "3ZjidH8HFY7Y",
        "outputId": "9e1faf92-ebf8-4585-b8d0-d893f35ccf24"
      },
      "outputs": [
        {
          "output_type": "stream",
          "name": "stdout",
          "text": [
            "\n",
            "Hello, yooo!\n"
          ]
        }
      ],
      "source": [
        "print(f'\\nHello, {message}!')"
      ]
    },
    {
      "cell_type": "code",
      "source": [
        "prompt = 'if you share your name, we can personlize the message you see.'\n",
        "prompt += '\\nwhat is your first name? '\n",
        "\n",
        "name = input(prompt)\n",
        "print(f'\\nHello, {name}!  ')"
      ],
      "metadata": {
        "colab": {
          "base_uri": "https://localhost:8080/"
        },
        "id": "OERzQSlZbaZ7",
        "outputId": "55f53816-f43c-4ae1-d4b2-82cd13584b94"
      },
      "execution_count": null,
      "outputs": [
        {
          "output_type": "stream",
          "name": "stdout",
          "text": [
            "if you share your name, we can personlize the message you see.\n",
            "what is your first name? David\n",
            "\n",
            "Hello, David!  \n"
          ]
        }
      ]
    },
    {
      "cell_type": "code",
      "source": [
        "age = input(\"How old are you? \")\n",
        "\n",
        "age = int(age)\n",
        "age >= 18"
      ],
      "metadata": {
        "colab": {
          "base_uri": "https://localhost:8080/"
        },
        "id": "VcNW9oy5c5LN",
        "outputId": "2ede1006-34e6-49c9-b94d-0a1d08677322"
      },
      "execution_count": null,
      "outputs": [
        {
          "name": "stdout",
          "output_type": "stream",
          "text": [
            "How old are you? 17\n"
          ]
        },
        {
          "output_type": "execute_result",
          "data": {
            "text/plain": [
              "False"
            ]
          },
          "metadata": {},
          "execution_count": 25
        }
      ]
    },
    {
      "cell_type": "code",
      "source": [
        "#just testing soomething\n",
        "something = int(4.8)\n",
        "print(something)"
      ],
      "metadata": {
        "colab": {
          "base_uri": "https://localhost:8080/"
        },
        "id": "7yvgrc4rek0B",
        "outputId": "76aa1745-4a14-4d0d-9581-1bce2a030bd0"
      },
      "execution_count": null,
      "outputs": [
        {
          "output_type": "stream",
          "name": "stdout",
          "text": [
            "4\n"
          ]
        }
      ]
    },
    {
      "cell_type": "code",
      "source": [
        "height = int(input('How tall are you , in inches? '))\n",
        "#height = int(height)\n",
        "if height >= 48:\n",
        "  print(\"\\nYou're tall enough to ride this ride! \")\n",
        "else:\n",
        "  print(\"\\nYou're not tall enough to ride this ride \")\n"
      ],
      "metadata": {
        "colab": {
          "base_uri": "https://localhost:8080/"
        },
        "id": "Zmn_Hh7gfEeH",
        "outputId": "1f154bf7-02ea-48c9-d69e-15834971df20"
      },
      "execution_count": null,
      "outputs": [
        {
          "output_type": "stream",
          "name": "stdout",
          "text": [
            "How tall are you , in inches? 18\n",
            "\n",
            "You're not tall enough to ride this ride \n"
          ]
        }
      ]
    },
    {
      "cell_type": "code",
      "source": [
        "4%3\n"
      ],
      "metadata": {
        "colab": {
          "base_uri": "https://localhost:8080/"
        },
        "id": "RmZ2wvXpgxcf",
        "outputId": "0152b781-0b93-4c6a-e5a2-56ff273e718a"
      },
      "execution_count": null,
      "outputs": [
        {
          "output_type": "execute_result",
          "data": {
            "text/plain": [
              "1"
            ]
          },
          "metadata": {},
          "execution_count": 29
        }
      ]
    },
    {
      "cell_type": "code",
      "source": [
        "5%6"
      ],
      "metadata": {
        "colab": {
          "base_uri": "https://localhost:8080/"
        },
        "id": "7Mcak0wTg1po",
        "outputId": "0c374026-c730-4133-e7e5-295482b4e84a"
      },
      "execution_count": null,
      "outputs": [
        {
          "output_type": "execute_result",
          "data": {
            "text/plain": [
              "5"
            ]
          },
          "metadata": {},
          "execution_count": 37
        }
      ]
    },
    {
      "cell_type": "code",
      "source": [
        "number = int(input('Enter a number, and i will tell you if its even or odd: '))\n",
        "#number = int(number)\n",
        "\n",
        "if number % 2 == 0:\n",
        "  print(f'\\nThe number {number} is even. ')\n",
        "else:\n",
        "    print(f'\\nThe number {number} is odd. ')"
      ],
      "metadata": {
        "id": "otzsVudfjQoT",
        "colab": {
          "base_uri": "https://localhost:8080/"
        },
        "outputId": "d334a19d-f07f-439a-8643-3f760dfa957f"
      },
      "execution_count": null,
      "outputs": [
        {
          "output_type": "stream",
          "name": "stdout",
          "text": [
            "Enter a number, and i will tell you if its even or odd: 5\n",
            "\n",
            "The number 5 is odd. \n"
          ]
        }
      ]
    },
    {
      "cell_type": "code",
      "source": [
        "#7-1 Not fully sure if Im reading the question right\n",
        "cars = input(\"What kind of car would you like? \")\n",
        "if cars == 'subaru':\n",
        "  print(f'\\nlets get you a {cars}')\n",
        "else:\n",
        "  print(f'\\nOh you want a {cars}, well lets get you a subaru')"
      ],
      "metadata": {
        "colab": {
          "base_uri": "https://localhost:8080/"
        },
        "id": "2FJFFvvy2Pn_",
        "outputId": "45ace4c5-5c1a-4061-f420-fd0f836811e2"
      },
      "execution_count": null,
      "outputs": [
        {
          "output_type": "stream",
          "name": "stdout",
          "text": [
            "What kind of car would you like? honda\n",
            "\n",
            "Oh you want a honda, well lets get you a subaru\n"
          ]
        }
      ]
    },
    {
      "cell_type": "code",
      "source": [],
      "metadata": {
        "id": "QEoO3NdpaEia"
      },
      "execution_count": null,
      "outputs": []
    },
    {
      "cell_type": "code",
      "source": [
        "#7-3\n",
        "number = int(input('Give me a number: '))\n",
        "if number % 10 == 0:\n",
        "  print(f'\\nYes {number} is a multiple of 10 ')\n",
        "else:\n",
        "  print(f\"\\nNo {number} is not a mutilple of 10, try again! \")"
      ],
      "metadata": {
        "id": "Mzzuq4Ud2dNw",
        "colab": {
          "base_uri": "https://localhost:8080/"
        },
        "outputId": "f2f1734c-2cef-4b3e-b13b-f5be33fba0e7"
      },
      "execution_count": null,
      "outputs": [
        {
          "output_type": "stream",
          "name": "stdout",
          "text": [
            "Give me a number: 5\n",
            "\n",
            "No 5 is not a mutilple of 10, try again! \n"
          ]
        }
      ]
    },
    {
      "cell_type": "code",
      "source": [
        "current_number = 1\n",
        "while current_number <= 5:\n",
        "  print(current_number)\n",
        "  current_number += 1"
      ],
      "metadata": {
        "colab": {
          "base_uri": "https://localhost:8080/"
        },
        "id": "jfItDwcr0GEu",
        "outputId": "07650b73-5e53-4cb4-9372-65f4dc3a26ea"
      },
      "execution_count": null,
      "outputs": [
        {
          "output_type": "stream",
          "name": "stdout",
          "text": [
            "1\n",
            "2\n",
            "3\n",
            "4\n",
            "5\n"
          ]
        }
      ]
    },
    {
      "cell_type": "code",
      "source": [
        "prompt = \"\\nTell me something, and I will repeat it backto you: \"\n",
        "prompt += \"\\nEnter 'quit' to end the program. \"\n",
        "message = \"\"\n",
        "while message != 'quit':\n",
        "  message = input(prompt)\n",
        "  print(message)"
      ],
      "metadata": {
        "colab": {
          "base_uri": "https://localhost:8080/"
        },
        "id": "wEgR_ISs0vlz",
        "outputId": "3213642b-1120-4829-9a82-90afaedd58ef"
      },
      "execution_count": null,
      "outputs": [
        {
          "output_type": "stream",
          "name": "stdout",
          "text": [
            "\n",
            "Tell me something, and I will repeat it backto you: \n",
            "Enter 'quit' to end the program. something\n",
            "something\n",
            "\n",
            "Tell me something, and I will repeat it backto you: \n",
            "Enter 'quit' to end the program. quit\n",
            "quit\n"
          ]
        }
      ]
    },
    {
      "cell_type": "code",
      "source": [
        "prompt = \"\\nTell me something, and I will repeat it backto you: \"\n",
        "prompt += \"\\nEnter 'quit' to end the program. \"\n",
        "#message = \"\"\n",
        "\n",
        "active = True\n",
        "while active:\n",
        "  message = input(prompt)\n",
        "  if message == 'quit':\n",
        "    active = False\n",
        "  else:\n",
        "     print(message)"
      ],
      "metadata": {
        "colab": {
          "base_uri": "https://localhost:8080/"
        },
        "outputId": "5bb671d6-302b-4ec2-c194-8e089c7d4422",
        "id": "OTD19f-8AHor"
      },
      "execution_count": null,
      "outputs": [
        {
          "name": "stdout",
          "output_type": "stream",
          "text": [
            "\n",
            "Tell me something, and I will repeat it backto you: \n",
            "Enter 'quit' to end the program. hello]\n",
            "hello]\n",
            "\n",
            "Tell me something, and I will repeat it backto you: \n",
            "Enter 'quit' to end the program. quit\n"
          ]
        }
      ]
    },
    {
      "cell_type": "code",
      "source": [
        "prompt = \"\\nPlease enter the name of a city you have visited: \"\n",
        "prompt += \"\\n(Enter 'quit' when you are finished. )\"\n",
        "\n",
        "while True:\n",
        "  city = input(prompt)\n",
        "\n",
        "  if city == 'quit':\n",
        "    break\n",
        "  else:\n",
        "    print(f\"I'd love to go to {city.title()}!\")\n"
      ],
      "metadata": {
        "colab": {
          "base_uri": "https://localhost:8080/"
        },
        "id": "52kqysak2u7i",
        "outputId": "d164aa9f-16ba-4ae8-865b-da20c36cf887"
      },
      "execution_count": null,
      "outputs": [
        {
          "name": "stdout",
          "output_type": "stream",
          "text": [
            "\n",
            "Please enter the name of a city you have visited: \n",
            "(Enter 'quit' when you are finished. )gouverneur\n",
            "I'd love to go to Gouverneur!\n",
            "\n",
            "Please enter the name of a city you have visited: \n",
            "(Enter 'quit' when you are finished. )quit\n"
          ]
        }
      ]
    },
    {
      "cell_type": "code",
      "source": [
        "current_number = 0\n",
        "while current_number < 10:\n",
        "  current_number += 1\n",
        "  if current_number % 2 == 0:\n",
        "    continue\n",
        "\n",
        "  print(current_number)"
      ],
      "metadata": {
        "colab": {
          "base_uri": "https://localhost:8080/"
        },
        "id": "XpDI1VYIDc8E",
        "outputId": "59b6baad-6fb5-445f-852c-29ebaff2d1ba"
      },
      "execution_count": null,
      "outputs": [
        {
          "output_type": "stream",
          "name": "stdout",
          "text": [
            "1\n",
            "3\n",
            "5\n",
            "7\n",
            "9\n"
          ]
        }
      ]
    },
    {
      "cell_type": "code",
      "source": [
        "x = 1\n",
        "while x <= 5:\n",
        "  print(x)\n",
        "  x += 1\n"
      ],
      "metadata": {
        "colab": {
          "base_uri": "https://localhost:8080/"
        },
        "id": "NysmfuspDdEi",
        "outputId": "57d2350d-cf7a-4d7f-d33c-58af7d1ed75f"
      },
      "execution_count": null,
      "outputs": [
        {
          "output_type": "stream",
          "name": "stdout",
          "text": [
            "1\n",
            "2\n",
            "3\n",
            "4\n",
            "5\n"
          ]
        }
      ]
    },
    {
      "cell_type": "code",
      "source": [
        "x = 1\n",
        "while x <= 5:\n",
        "  print(x)\n",
        "  x+=1"
      ],
      "metadata": {
        "id": "wet_S7H1ER5U",
        "colab": {
          "base_uri": "https://localhost:8080/"
        },
        "outputId": "8da3bdc5-3c27-4eae-815b-5c3c34e9b9d7"
      },
      "execution_count": null,
      "outputs": [
        {
          "output_type": "stream",
          "name": "stdout",
          "text": [
            "1\n",
            "2\n",
            "3\n",
            "4\n",
            "5\n"
          ]
        }
      ]
    },
    {
      "cell_type": "code",
      "source": [
        "#7-6\n",
        "\n",
        "while True:\n",
        "  age = input('How old are you? (type qui9t to end): ')\n",
        "  if age == 'quit':\n",
        "    break\n",
        "  age = int(age)\n",
        "  if age <= 3:\n",
        "    print(\"\\nYou're ticket is free:  \")\n",
        "  elif age  >= 3 and age <= 12:\n",
        "   print(\"\\nYou pay: 10 \")\n",
        "  elif age >= 12:\n",
        "     print(\"\\nYou pay: 15 \")\n",
        "\n"
      ],
      "metadata": {
        "id": "n02gmjaoJ3KN",
        "colab": {
          "base_uri": "https://localhost:8080/"
        },
        "outputId": "3625c8c8-a8a0-4cc1-ec06-3f41a68055ae"
      },
      "execution_count": null,
      "outputs": [
        {
          "name": "stdout",
          "output_type": "stream",
          "text": [
            "How old are you? (type qui9t to end): quit\n"
          ]
        }
      ]
    },
    {
      "cell_type": "code",
      "source": [
        "#7-5\n",
        "age = 0\n",
        "while age != 00:\n",
        "  age = int(input('How old are you? '))\n",
        "  if age <= 3:\n",
        "    print(\"\\nYou're ticket is free:  \")\n",
        "  elif age  >= 3 and age <= 12:\n",
        "   print(\"\\nYou pay: 10 \")\n",
        "  elif age >= 12:\n",
        "     print(\"\\nYou pay: 15 \")\n",
        "\n"
      ],
      "metadata": {
        "id": "T94A4GDAF9kt"
      },
      "execution_count": null,
      "outputs": []
    },
    {
      "cell_type": "code",
      "source": [
        "#7-6 before 7-5\n"
      ],
      "metadata": {
        "id": "rnLGEGGDJL_c"
      },
      "execution_count": null,
      "outputs": []
    },
    {
      "cell_type": "code",
      "source": [
        "from prompt_toolkit.application import current\n",
        "unconfirmed_users = ['alice', 'brian', 'candice']\n",
        "confirmed_users = []\n",
        "while unconfirmed_users:\n",
        "  current_user = unconfirmed_users.pop()\n",
        "\n",
        "  print(f\"Verify user: {current_user.title()}\")\n",
        "  confirmed_users.append(current_user)\n",
        "\n",
        "print(f\"\\nThe following users have ben confirmed: \")\n",
        "for confirmed_user in confirmed_users:\n",
        "  print(confirmed_user.title())"
      ],
      "metadata": {
        "colab": {
          "base_uri": "https://localhost:8080/"
        },
        "id": "QDkjHtTZNEgB",
        "outputId": "3500a255-4d1c-47dc-c7fb-6346e384d5b0"
      },
      "execution_count": null,
      "outputs": [
        {
          "output_type": "stream",
          "name": "stdout",
          "text": [
            "Verify user: Candice\n",
            "Verify user: Brian\n",
            "Verify user: Alice\n",
            "\n",
            "The following users have ben confirmed: \n",
            "Candice\n",
            "Brian\n",
            "Alice\n"
          ]
        }
      ]
    },
    {
      "cell_type": "code",
      "source": [
        "pets = ['dog', 'cat', 'dog', 'goldfish', 'cat', 'rabbit']\n",
        "print(pets)\n",
        "while 'cat' in pets:\n",
        "  pets.remove('cat')\n",
        "print(pets)"
      ],
      "metadata": {
        "colab": {
          "base_uri": "https://localhost:8080/"
        },
        "id": "Ekc4ExOWgmoY",
        "outputId": "cf215260-fb4a-4ede-dc5d-7b8466236b3c"
      },
      "execution_count": null,
      "outputs": [
        {
          "output_type": "stream",
          "name": "stdout",
          "text": [
            "['dog', 'cat', 'dog', 'goldfish', 'cat', 'rabbit']\n",
            "['dog', 'dog', 'goldfish', 'rabbit']\n"
          ]
        }
      ]
    },
    {
      "cell_type": "code",
      "source": [
        "responses = {}\n",
        "polling_active = True\n",
        "while polling_active:\n",
        "  name = input(\"\\nwhat is your name\")\n",
        "  response = input(\"which moutain would you like to climb someday? \")\n",
        "  responses[name] = response\n",
        "  repeat = input(\"would you like to let another person responed? (yes/ no)\")\n",
        "  if repeat == 'no':\n",
        "    polling_active = False\n",
        "    print(\"\\n--Polling Results--\")\n",
        "    for name, response in responses.items():\n",
        "     print(f\"{name} would you like to climb {response}.\")\n",
        "\n",
        "\n"
      ],
      "metadata": {
        "colab": {
          "base_uri": "https://localhost:8080/",
          "height": 425
        },
        "id": "5kO-smoXiFzV",
        "outputId": "306c908e-5ba7-4918-8b29-98dc54f3667b"
      },
      "execution_count": null,
      "outputs": [
        {
          "name": "stdout",
          "output_type": "stream",
          "text": [
            "\n",
            "what is your namedd\n"
          ]
        },
        {
          "output_type": "error",
          "ename": "KeyboardInterrupt",
          "evalue": "ignored",
          "traceback": [
            "\u001b[0;31m---------------------------------------------------------------------------\u001b[0m",
            "\u001b[0;31mKeyboardInterrupt\u001b[0m                         Traceback (most recent call last)",
            "\u001b[0;32m<ipython-input-26-8a987b7a939e>\u001b[0m in \u001b[0;36m<cell line: 3>\u001b[0;34m()\u001b[0m\n\u001b[1;32m      3\u001b[0m \u001b[0;32mwhile\u001b[0m \u001b[0mpolling_active\u001b[0m\u001b[0;34m:\u001b[0m\u001b[0;34m\u001b[0m\u001b[0;34m\u001b[0m\u001b[0m\n\u001b[1;32m      4\u001b[0m   \u001b[0mname\u001b[0m \u001b[0;34m=\u001b[0m \u001b[0minput\u001b[0m\u001b[0;34m(\u001b[0m\u001b[0;34m\"\\nwhat is your name\"\u001b[0m\u001b[0;34m)\u001b[0m\u001b[0;34m\u001b[0m\u001b[0;34m\u001b[0m\u001b[0m\n\u001b[0;32m----> 5\u001b[0;31m   \u001b[0mresponse\u001b[0m \u001b[0;34m=\u001b[0m \u001b[0minput\u001b[0m\u001b[0;34m(\u001b[0m\u001b[0;34m\"which moutain would you like to climb someday? \"\u001b[0m\u001b[0;34m)\u001b[0m\u001b[0;34m\u001b[0m\u001b[0;34m\u001b[0m\u001b[0m\n\u001b[0m\u001b[1;32m      6\u001b[0m   \u001b[0mresponses\u001b[0m\u001b[0;34m[\u001b[0m\u001b[0mname\u001b[0m\u001b[0;34m]\u001b[0m \u001b[0;34m=\u001b[0m \u001b[0mresponse\u001b[0m\u001b[0;34m\u001b[0m\u001b[0;34m\u001b[0m\u001b[0m\n\u001b[1;32m      7\u001b[0m   \u001b[0mrepeat\u001b[0m \u001b[0;34m=\u001b[0m \u001b[0minput\u001b[0m\u001b[0;34m(\u001b[0m\u001b[0;34m\"would you like to let another person responed? (yes/ no)\"\u001b[0m\u001b[0;34m)\u001b[0m\u001b[0;34m\u001b[0m\u001b[0;34m\u001b[0m\u001b[0m\n",
            "\u001b[0;32m/usr/local/lib/python3.10/dist-packages/ipykernel/kernelbase.py\u001b[0m in \u001b[0;36mraw_input\u001b[0;34m(self, prompt)\u001b[0m\n\u001b[1;32m    849\u001b[0m                 \u001b[0;34m\"raw_input was called, but this frontend does not support input requests.\"\u001b[0m\u001b[0;34m\u001b[0m\u001b[0;34m\u001b[0m\u001b[0m\n\u001b[1;32m    850\u001b[0m             )\n\u001b[0;32m--> 851\u001b[0;31m         return self._input_request(str(prompt),\n\u001b[0m\u001b[1;32m    852\u001b[0m             \u001b[0mself\u001b[0m\u001b[0;34m.\u001b[0m\u001b[0m_parent_ident\u001b[0m\u001b[0;34m,\u001b[0m\u001b[0;34m\u001b[0m\u001b[0;34m\u001b[0m\u001b[0m\n\u001b[1;32m    853\u001b[0m             \u001b[0mself\u001b[0m\u001b[0;34m.\u001b[0m\u001b[0m_parent_header\u001b[0m\u001b[0;34m,\u001b[0m\u001b[0;34m\u001b[0m\u001b[0;34m\u001b[0m\u001b[0m\n",
            "\u001b[0;32m/usr/local/lib/python3.10/dist-packages/ipykernel/kernelbase.py\u001b[0m in \u001b[0;36m_input_request\u001b[0;34m(self, prompt, ident, parent, password)\u001b[0m\n\u001b[1;32m    893\u001b[0m             \u001b[0;32mexcept\u001b[0m \u001b[0mKeyboardInterrupt\u001b[0m\u001b[0;34m:\u001b[0m\u001b[0;34m\u001b[0m\u001b[0;34m\u001b[0m\u001b[0m\n\u001b[1;32m    894\u001b[0m                 \u001b[0;31m# re-raise KeyboardInterrupt, to truncate traceback\u001b[0m\u001b[0;34m\u001b[0m\u001b[0;34m\u001b[0m\u001b[0m\n\u001b[0;32m--> 895\u001b[0;31m                 \u001b[0;32mraise\u001b[0m \u001b[0mKeyboardInterrupt\u001b[0m\u001b[0;34m(\u001b[0m\u001b[0;34m\"Interrupted by user\"\u001b[0m\u001b[0;34m)\u001b[0m \u001b[0;32mfrom\u001b[0m \u001b[0;32mNone\u001b[0m\u001b[0;34m\u001b[0m\u001b[0;34m\u001b[0m\u001b[0m\n\u001b[0m\u001b[1;32m    896\u001b[0m             \u001b[0;32mexcept\u001b[0m \u001b[0mException\u001b[0m \u001b[0;32mas\u001b[0m \u001b[0me\u001b[0m\u001b[0;34m:\u001b[0m\u001b[0;34m\u001b[0m\u001b[0;34m\u001b[0m\u001b[0m\n\u001b[1;32m    897\u001b[0m                 \u001b[0mself\u001b[0m\u001b[0;34m.\u001b[0m\u001b[0mlog\u001b[0m\u001b[0;34m.\u001b[0m\u001b[0mwarning\u001b[0m\u001b[0;34m(\u001b[0m\u001b[0;34m\"Invalid Message:\"\u001b[0m\u001b[0;34m,\u001b[0m \u001b[0mexc_info\u001b[0m\u001b[0;34m=\u001b[0m\u001b[0;32mTrue\u001b[0m\u001b[0;34m)\u001b[0m\u001b[0;34m\u001b[0m\u001b[0;34m\u001b[0m\u001b[0m\n",
            "\u001b[0;31mKeyboardInterrupt\u001b[0m: Interrupted by user"
          ]
        }
      ]
    },
    {
      "cell_type": "code",
      "source": [
        "#7-8 Not sure why looping like this but when it sectioned off it works partly right\n",
        "sandwich_orders = ['tuna', 'grilled chesse', 'pastrami']\n",
        "finished_orders = []\n",
        "while sandwich_orders:\n",
        "  order = sandwich_orders.pop()\n",
        "  finished_orders.append(order)\n",
        "  print(f\"Order is done: {order}\")\n",
        "  ##confirmed_users.append(current_user)\n",
        "  #print(f\"\\nThe following orders are ready to served to the customer: \")\n",
        "for order in finished_orders:\n",
        "    print(order.title())"
      ],
      "metadata": {
        "id": "Hadqc_0onJZ-",
        "colab": {
          "base_uri": "https://localhost:8080/"
        },
        "outputId": "0aff0478-a4e8-4e8a-ea08-c8017721681a"
      },
      "execution_count": null,
      "outputs": [
        {
          "output_type": "stream",
          "name": "stdout",
          "text": [
            "Order is done: pastrami\n",
            "Order is done: grilled chesse\n",
            "Order is done: tuna\n",
            "Pastrami\n",
            "Grilled Chesse\n",
            "Tuna\n"
          ]
        }
      ]
    },
    {
      "cell_type": "code",
      "source": [
        "#Problem 3 I have questions\n",
        "total = 0\n",
        "num = int(input(\"Input a number \"))\n",
        "while num != 'stop':\n",
        "  operator = input(\"Input your operator: \")\n",
        "  num2 = int(input(\"Input a number \"))\n",
        "  if operator == '+':\n",
        "    total = num + num2\n",
        "    print(total)\n",
        "    break\n",
        "  elif operator == '-':\n",
        "    total = num - num2\n",
        "    print(total)\n",
        "    break\n",
        "  elif operator == '*':\n",
        "    total = num * num2\n",
        "    print(total)\n",
        "    break\n",
        "  elif operator == '/':\n",
        "    total = num/num2\n",
        "    print(total)\n",
        "    break"
      ],
      "metadata": {
        "id": "NjzgiJiUV4W3",
        "colab": {
          "base_uri": "https://localhost:8080/"
        },
        "outputId": "3db622e2-8fd0-46e8-fb9f-0dd4313bcc93"
      },
      "execution_count": 10,
      "outputs": [
        {
          "output_type": "stream",
          "name": "stdout",
          "text": [
            "Input a number 5\n",
            "Input your operator: -\n",
            "Input a number 5\n",
            "0\n"
          ]
        }
      ]
    }
  ]
}