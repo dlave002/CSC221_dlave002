{
  "nbformat": 4,
  "nbformat_minor": 0,
  "metadata": {
    "colab": {
      "provenance": [],
      "authorship_tag": "ABX9TyN1tUg1VXypDoTTiJgTdcVY",
      "include_colab_link": true
    },
    "kernelspec": {
      "name": "python3",
      "display_name": "Python 3"
    },
    "language_info": {
      "name": "python"
    }
  },
  "cells": [
    {
      "cell_type": "markdown",
      "metadata": {
        "id": "view-in-github",
        "colab_type": "text"
      },
      "source": [
        "<a href=\"https://colab.research.google.com/github/dlave002/CSC221_dlave002/blob/main/assignment20.ipynb\" target=\"_parent\"><img src=\"https://colab.research.google.com/assets/colab-badge.svg\" alt=\"Open In Colab\"/></a>"
      ]
    },
    {
      "cell_type": "code",
      "execution_count": 1,
      "metadata": {
        "colab": {
          "base_uri": "https://localhost:8080/"
        },
        "id": "m48-t2O-96en",
        "outputId": "a40a0b7b-0543-4960-fee8-6f4a74566540"
      },
      "outputs": [
        {
          "output_type": "stream",
          "name": "stdout",
          "text": [
            "19\n",
            "44.5\n",
            "asdfg13\n"
          ]
        }
      ],
      "source": [
        "a = 12\n",
        "b = 21.5\n",
        "c = 'asdfg'\n",
        "a1 = a.__add__(13)\n",
        "b1 = b.__add__(13)\n",
        "c1 = c.__add__('13')\n",
        "print(a1)\n",
        "print(b1)\n",
        "print(c1)\n",
        "\n",
        "# What are the types of a, b, and c?\n",
        "# a is type int, b is type float because it have a do in the number, c is string type\n",
        "\n",
        "# Explain the results\n",
        "# if 2 int add together it will result in int, if an int and a float added together will result in float, if 2 string add together you get a longer string"
      ]
    },
    {
      "cell_type": "code",
      "source": [
        "# 4.5 str and repr\n",
        "# How many categpries of printing are shown below for a datetime object?\n",
        "# What in the Pythion code makes each one get callled?\n",
        "\n",
        "from datetime import date\n",
        "d = date(2023, 11, 7)\n",
        "\n",
        "print(d)\n",
        "print(f'{d}')\n",
        "print(f'{d!s}')\n",
        "print(f'{d!r}')\n",
        "print(str(d))\n",
        "print(repr(d))\n",
        "print(d.__str__())\n",
        "print(d.__repr__())\n",
        "\n",
        "''' print(d): This calls the default __str__ method of the datetime object. It is equivalent to print(str(d)).\n",
        "\n",
        "print(f'{d}'): This also calls the default __str__ method because the f-string implicitly calls str().\n",
        "\n",
        "print(f'{d!s}'): This explicitly calls the __str__ method using the !s conversion flag in the f-string.\n",
        "\n",
        "print(f'{d!r}'): This explicitly calls the __repr__ method using the !r conversion flag in the f-string.\n",
        "\n",
        "print(str(d)): This explicitly calls the __str__ method.\n",
        "\n",
        "print(repr(d)): This explicitly calls the __repr__ method.\n",
        "\n",
        "print(d.__str__()): This directly calls the __str__ method of the datetime object.\n",
        "\n",
        "print(d.__repr__()): This directly calls the __repr__ method of the datetime object. '''"
      ],
      "metadata": {
        "colab": {
          "base_uri": "https://localhost:8080/",
          "height": 209
        },
        "id": "KvYi47LYAgaV",
        "outputId": "286a7ffc-eaf1-4f9c-a785-335c87371cad"
      },
      "execution_count": 2,
      "outputs": [
        {
          "output_type": "stream",
          "name": "stdout",
          "text": [
            "2023-11-07\n",
            "2023-11-07\n",
            "2023-11-07\n",
            "datetime.date(2023, 11, 7)\n",
            "2023-11-07\n",
            "datetime.date(2023, 11, 7)\n",
            "2023-11-07\n",
            "datetime.date(2023, 11, 7)\n"
          ]
        },
        {
          "output_type": "execute_result",
          "data": {
            "text/plain": [
              "\" print(d): This calls the default __str__ method of the datetime object. It is equivalent to print(str(d)).\\n\\nprint(f'{d}'): This also calls the default __str__ method because the f-string implicitly calls str().\\n\\nprint(f'{d!s}'): This explicitly calls the __str__ method using the !s conversion flag in the f-string.\\n\\nprint(f'{d!r}'): This explicitly calls the __repr__ method using the !r conversion flag in the f-string.\\n\\nprint(str(d)): This explicitly calls the __str__ method.\\n\\nprint(repr(d)): This explicitly calls the __repr__ method.\\n\\nprint(d.__str__()): This directly calls the __str__ method of the datetime object.\\n\\nprint(d.__repr__()): This directly calls the __repr__ method of the datetime object. \""
            ],
            "application/vnd.google.colaboratory.intrinsic+json": {
              "type": "string"
            }
          },
          "metadata": {},
          "execution_count": 2
        }
      ]
    },
    {
      "cell_type": "code",
      "source": [
        "# 4.6 First-Class Objects\n",
        "# What is the significance of all objects being \"first-class\" in Python?\n",
        "\n",
        "# Explain by typing in the code to create and use the 'items' dictionary shown in section 4.6.\n",
        "# Explain each of the lines starting with '>>>' in the section.\n",
        "# Create a dictionary named 'items'\n",
        "items = {'first': 1, 'second': 2, 'third': 3}\n",
        "\n",
        "# Define a function that squares a number\n",
        "def square(x):\n",
        "    return x ** 2\n",
        "\n",
        "# Use the map function to apply the square function to the values of the 'items' dictionary\n",
        "squared_values = map(square, items.values())\n",
        "\n",
        "# Print the result\n",
        "print(list(squared_values))\n",
        "\n",
        "\n",
        "\n"
      ],
      "metadata": {
        "colab": {
          "base_uri": "https://localhost:8080/"
        },
        "id": "-FetSxgKA3Nj",
        "outputId": "da772a48-64dd-4279-b83b-934b486c9802"
      },
      "execution_count": 7,
      "outputs": [
        {
          "output_type": "stream",
          "name": "stdout",
          "text": [
            "[1, 4, 9]\n"
          ]
        }
      ]
    },
    {
      "cell_type": "code",
      "source": [
        "# 4.7 Using None\n",
        "# Write a function that takes two parameters and returns their sum if they are\n",
        "#  integers or returns None if either one is not.\n",
        "\n",
        "# Put in some test code to show that your function works\n",
        "\n",
        "# INSERT YOUR CODE HERE\n",
        "\n",
        "def sum(a,b):\n",
        "  if type(a) != int or type(b) != int:\n",
        "    return None\n",
        "  return a + b\n",
        "\n",
        "print(sum(1,2))\n",
        "print(sum(1.1,2))\n"
      ],
      "metadata": {
        "colab": {
          "base_uri": "https://localhost:8080/"
        },
        "id": "pFYeMGs2D6e1",
        "outputId": "4ea78f0d-b47e-4ead-bf3a-4023deed5663"
      },
      "execution_count": 9,
      "outputs": [
        {
          "output_type": "stream",
          "name": "stdout",
          "text": [
            "3\n",
            "None\n"
          ]
        }
      ]
    },
    {
      "cell_type": "code",
      "source": [
        "# 4.9 Object Protocol\n",
        "# Create a simple object that has methods for:\n",
        "#  __new__\n",
        "#  __init__\n",
        "#  __del__\n",
        "#  __repr__\n",
        "#  __str__\n",
        "\n",
        "# Put in some test code to show how and when each of these 'magic' functions gets called.\n",
        "\n",
        "# INSERT YOUR CODE HERE\n",
        "\n",
        "class Person:\n",
        "    def __new__(cls, name):\n",
        "        # __new__ is responsible for creating a new instance of the class\n",
        "        print(\"__new__ method called\")\n",
        "        instance = super(Person, cls).__new__(cls)\n",
        "        return instance\n",
        "\n",
        "    def __init__(self, name):\n",
        "        # __init__ is responsible for initializing the attributes of the instance\n",
        "        print(\"__init__ method called\")\n",
        "        self.name = name\n",
        "\n",
        "    def __del__(self):\n",
        "        # __del__ is called when the instance is about to be destroyed\n",
        "        print(\"__del__ method called\")\n",
        "\n",
        "    def __repr__(self):\n",
        "        # __repr__ should return a string representation of the instance\n",
        "        return f\"Person(name='{self.name}')\"\n",
        "\n",
        "    def __str__(self):\n",
        "        # __str__ should return a human-readable string representation of the instance\n",
        "        return f\"Person object with name: {self.name}\"\n",
        "\n",
        "# Test code\n",
        "person = Person(\"John\")\n",
        "\n",
        "# Accessing __repr__ and __str__\n",
        "print(\"Using __repr__:\", repr(person))\n",
        "print(\"Using __str__:\", str(person))\n",
        "\n",
        "# Deleting the instance\n",
        "del person"
      ],
      "metadata": {
        "colab": {
          "base_uri": "https://localhost:8080/"
        },
        "id": "l0O_hUVCDoWO",
        "outputId": "431fd2a1-21a6-4643-bff2-af997dd252d2"
      },
      "execution_count": 6,
      "outputs": [
        {
          "output_type": "stream",
          "name": "stdout",
          "text": [
            "__new__ method called\n",
            "__init__ method called\n",
            "Using __repr__: Person(name='John')\n",
            "Using __str__: Person object with name: John\n",
            "__del__ method called\n"
          ]
        }
      ]
    }
  ]
}